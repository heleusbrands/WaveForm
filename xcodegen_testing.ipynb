{
 "cells": [
  {
   "attachments": {},
   "cell_type": "markdown",
   "metadata": {},
   "source": [
    "### Imports"
   ]
  },
  {
   "cell_type": "code",
   "execution_count": 1,
   "metadata": {
    "notebookRunGroups": {
     "groupValue": "1"
    }
   },
   "outputs": [
    {
     "data": {
      "text/html": [
       "<style>\n",
       ".cell-output-ipywidget-background {\n",
       "   background-color: transparent !important;\n",
       "}\n",
       ".jp-OutputArea-output {\n",
       "   background-color: transparent;\n",
       "}  \n",
       "</style>\n"
      ],
      "text/plain": [
       "<IPython.core.display.HTML object>"
      ]
     },
     "metadata": {},
     "output_type": "display_data"
    }
   ],
   "source": [
    "%%html\n",
    "<style>\n",
    ".cell-output-ipywidget-background {\n",
    "   background-color: transparent !important;\n",
    "}\n",
    ".jp-OutputArea-output {\n",
    "   background-color: transparent;\n",
    "}  \n",
    "</style>"
   ]
  },
  {
   "cell_type": "code",
   "execution_count": 2,
   "metadata": {
    "notebookRunGroups": {
     "groupValue": "1"
    }
   },
   "outputs": [],
   "source": [
    "%load_ext autoreload"
   ]
  },
  {
   "cell_type": "code",
   "execution_count": 3,
   "metadata": {
    "notebookRunGroups": {
     "groupValue": "1"
    }
   },
   "outputs": [],
   "source": [
    "%autoreload complete"
   ]
  },
  {
   "cell_type": "code",
   "execution_count": 1,
   "metadata": {
    "notebookRunGroups": {
     "groupValue": "1"
    }
   },
   "outputs": [],
   "source": [
    "#%autoreload\n",
    "from bindings_generator import *\n",
    "from rich.progress import track\n",
    "from threading import Event\n",
    "%load_ext rich\n",
    "#%aimport -pydantic"
   ]
  },
  {
   "attachments": {},
   "cell_type": "markdown",
   "metadata": {},
   "source": [
    "### Globals"
   ]
  },
  {
   "attachments": {},
   "cell_type": "markdown",
   "metadata": {},
   "source": [
    "### Finished Examples"
   ]
  },
  {
   "cell_type": "code",
   "execution_count": null,
   "metadata": {},
   "outputs": [],
   "source": [
    "def enum_splitter(e):\n",
    "    groupings = OData()\n",
    "    keys = list(e.__dict__.keys())\n",
    "    vals = []\n",
    "    for k in keys:\n",
    "        try:\n",
    "            val = getattr(e, k)\n",
    "            vals.append(val)\n",
    "        except:\n",
    "            del keys[keys.index(k)]\n",
    "            continue\n",
    "    for k, v in zip(keys, vals):\n",
    "        split_index = None\n",
    "        for i in range(len(k)):\n",
    "            if k[i].isupper() and i > 0:\n",
    "                split_index = i\n",
    "                break\n",
    "        if split_index is None:\n",
    "            continue\n",
    "        if not hasattr(groupings, k[:split_index]):\n",
    "            gd = OData()\n",
    "            gd.Config.fields = {\n",
    "                'name': {'exclude': True}, \n",
    "                'children': {'exclude': True}\n",
    "                }\n",
    "            setattr(groupings, k[:split_index], gd)\n",
    "        setattr(getattr(groupings, k[:split_index]), k[split_index:], v)\n",
    "    return groupings\n"
   ]
  },
  {
   "cell_type": "code",
   "execution_count": 2,
   "metadata": {},
   "outputs": [
    {
     "ename": "",
     "evalue": "",
     "output_type": "error",
     "traceback": [
      "\u001b[1;31mCanceled future for execute_request message before replies were done"
     ]
    },
    {
     "ename": "",
     "evalue": "",
     "output_type": "error",
     "traceback": [
      "\u001b[1;31mThe Kernel crashed while executing code in the the current cell or a previous cell. Please review the code in the cell(s) to identify a possible cause of the failure. Click <a href='https://aka.ms/vscodeJupyterKernelCrash'>here</a> for more info. View Jupyter <a href='command:jupyter.viewOutput'>log</a> for further details."
     ]
    }
   ],
   "source": [
    "x = CodexString('')\n",
    "x.add('class RubberBandStretcher:').add_line_after\n"
   ]
  },
  {
   "cell_type": "code",
   "execution_count": null,
   "metadata": {},
   "outputs": [],
   "source": [
    "groups = enum_splitter(cxg.obj.RubberBandStretcher.Options)"
   ]
  },
  {
   "cell_type": "code",
   "execution_count": null,
   "metadata": {},
   "outputs": [],
   "source": [
    "'class.option.item.name'.partition('.')"
   ]
  },
  {
   "cell_type": "code",
   "execution_count": null,
   "metadata": {},
   "outputs": [],
   "source": [
    "pprint(groups.dict(exclude={\"name\"}))"
   ]
  },
  {
   "cell_type": "code",
   "execution_count": null,
   "metadata": {},
   "outputs": [],
   "source": [
    "for x in cxg.obj.RubberBandStretcher.Options.__dict__.keys():\n",
    "    try:\n",
    "        opt = getattr(cxg.obj.RubberBandStretcher.Options, x)\n",
    "        print(f'{x}: {Int32(opt.value__)}')\n",
    "    except:\n",
    "        continue"
   ]
  },
  {
   "cell_type": "code",
   "execution_count": null,
   "metadata": {},
   "outputs": [],
   "source": [
    "from System import Enum, Array, Double, Int32\n",
    "print(Int32(1))"
   ]
  },
  {
   "cell_type": "code",
   "execution_count": null,
   "metadata": {},
   "outputs": [],
   "source": [
    "from rich import inspect as rinspect\n",
    "#rinspect(cxg.obj.RubberBandStretcher.SetPitchOption, all=True)\n",
    "s = cxg.obj.RubberBandStretcher(16000, 1)\n",
    "s.Options.PitchHighSpeed.value__ = Int32(1)\n",
    "#type(s.SetPitchOption)\n",
    "s.SetPitchOption(s.Options.PitchHighSpeed, Int32(1))\n",
    "s.Options.PitchHighSpeed.value__\n",
    "\n"
   ]
  },
  {
   "cell_type": "code",
   "execution_count": null,
   "metadata": {},
   "outputs": [],
   "source": [
    "rinspect(s.Options, all=True)"
   ]
  },
  {
   "cell_type": "code",
   "execution_count": null,
   "metadata": {},
   "outputs": [],
   "source": [
    "rinspect(s.Options, all=True)\n"
   ]
  },
  {
   "cell_type": "code",
   "execution_count": null,
   "metadata": {},
   "outputs": [],
   "source": [
    "d"
   ]
  },
  {
   "cell_type": "code",
   "execution_count": null,
   "metadata": {
    "notebookRunGroups": {
     "groupValue": ""
    }
   },
   "outputs": [],
   "source": [
    "cxg = CodexGen(f'{RubberBand_Loc}/rubberband-sharp.dll', 'net', 'RubberBand')\n",
    "cxg()"
   ]
  },
  {
   "attachments": {},
   "cell_type": "markdown",
   "metadata": {},
   "source": [
    "### Trial & Testing"
   ]
  },
  {
   "cell_type": "code",
   "execution_count": null,
   "metadata": {},
   "outputs": [],
   "source": [
    "from collections import ChainMap"
   ]
  },
  {
   "attachments": {},
   "cell_type": "markdown",
   "metadata": {},
   "source": [
    "**Parameter will be a namedtuple class with the following attributes:**\n",
    "\n",
    "<u>Name</u> \n",
    "*The arguement name that the parameter is being mapped to*\n",
    "\n",
    "<u>Value:</u> \n",
    "*The Reference object that has been selected, or None if not selected*\n",
    "\n",
    "**Select is a type of Parameter who's purpose is to be used to mark the Parameter as selected and add it to the Config class, when dot notation is used. It has the following methods:**\n",
    "\n",
    "<u>__call__</u> \n",
    "*Upon first run, this does nothing, so that the object can be set up like this `ParamOne = Select(param_name, param_value)(Config_Object)`, which would return the config_object. Once the object has been set up, it's internal flag switches to active mode, which means that upon next call, the object's Parameter will be added to the config.*\n",
    "\n",
    "*If multiple Select Parameters share the same name(key_value), the config will be updated to only include the most recent one. However, the most ideal way to handle a Parameter with multiple options, is to use the `Choose()` class. __See Below For More Details__*\n",
    "\n",
    "**Choose is a type of Parameter that has multiple options for a key.** \n",
    "*Internally it sets up the different possible mappings for the key to it's value options. Externally it exposes a namedtuple object, with the different available options for them to choose from. This returned by the `__call__` function, so that the object can be set up like this:*\n",
    "\n",
    "`group = Choose(param_name, default=None)` *This sets the defaults, if there are any, and maps the group to a value in the config.*\n",
    "\n",
    "```\n",
    "group.setup(\n",
    "    param_names=['option_one', 'options_two'], \n",
    "    param_values=[obj_or_val_one, obj_or_val_2]\n",
    "    )\n",
    "```\n",
    "\n",
    "*It can then be used as an option in the config like so:*\n",
    "```\n",
    "class Config:\n",
    "    ...\n",
    "    self.option = group(self) #pass the Config (self), to the call to allow it to update the config\n",
    "```\n"
   ]
  },
  {
   "cell_type": "code",
   "execution_count": null,
   "metadata": {},
   "outputs": [],
   "source": [
    "class Config:\n",
    "    def __init__(self, name):\n",
    "        self._name = name\n",
    "        self._data = GData(name=name)\n",
    "\n",
    "    def Select(self, value):\n",
    "        return self._Select(value, self)()\n",
    "    \n",
    "    class _Select:\n",
    "        def __init__(self, value, config) -> None:\n",
    "            self.first_run = True\n",
    "            self.value = value\n",
    "            self.config = config\n"
   ]
  },
  {
   "cell_type": "code",
   "execution_count": 1,
   "metadata": {},
   "outputs": [
    {
     "name": "stdout",
     "output_type": "stream",
     "text": [
      "None\n"
     ]
    }
   ],
   "source": [
    "from collections import deque\n",
    "d = deque()\n",
    "if d:\n",
    "    print('Not None')\n",
    "else:\n",
    "    print('None')"
   ]
  },
  {
   "cell_type": "code",
   "execution_count": null,
   "metadata": {},
   "outputs": [],
   "source": [
    "g = GData(name='config')\n",
    "setattr(g, 'one', 'param one')\n",
    "setattr(g, 'two', 'param two')\n",
    "g.dict()"
   ]
  },
  {
   "cell_type": "code",
   "execution_count": null,
   "metadata": {},
   "outputs": [],
   "source": [
    "class GFile:\n",
    "    def __init__(self, filename: str, path: str):\n",
    "        self.file_name = filename\n",
    "        self.relative_path = path\n",
    "        self.name = self.__getfilename__()\n",
    "\n",
    "    def __getfilename__(self):\n",
    "        cleaned_prefix = self.file_name if self.file_name[0].isalnum() else self.file_name[1:]\n",
    "        return cleaned_prefix.split('.')[0] if '.' in cleaned_prefix else cleaned_prefix\n",
    "    \n",
    "    def __repr__(self):\n",
    "        return os.path.join(self.relative_path, self.file_name)\n",
    "    \n",
    "    def __str__(self):\n",
    "        return os.path.join(self.relative_path, self.file_name)\n",
    "    \n",
    "class GCtx(GData):\n",
    "    name: str = None\n",
    "    location: str\n",
    "    gtype: str\n",
    "GCtx.update_forward_refs()\n",
    "\n",
    "class GStruct:\n",
    "    def __init__(self, directory: str):\n",
    "        self.__path = directory\n",
    "        self.__global = ChainMap()\n",
    "        self.gdata: GData = None\n",
    "        self.ctx = None\n",
    "\n",
    "\n",
    "    def __load__(self):\n",
    "        walker = iter(os.walk(self.__path, topdown=True))\n",
    "        paths = [p for p in walker]\n",
    "        for path in paths:\n",
    "\n",
    "            location = path[0]\n",
    "            folders = path[1]\n",
    "            files = path[2]\n",
    "\n",
    "            location_path = location.split('\\\\')\n",
    "            location_name = location_path[-1]\n",
    "            location_name = self.__cleanname__(location_name)\n",
    "            if len(location_path) > 1: parent_location_name = location_path[-2]\n",
    "            print(location_name)\n",
    "            folder_names = self.__getfoldernames__(folders)\n",
    "            file_names = self.__getfilenames__(files)\n",
    "\n",
    "            directory_map = {location_name: folder_names.extend(file_names)}\n",
    "            folders_map = dict(zip(folder_names, folders))\n",
    "            files_map = dict(zip(file_names, files))\n",
    "\n",
    "            if self.gdata is None:\n",
    "                self.gdata = GData(gtype='folder', name=location_name, location=location)\n",
    "                self.__global.update({location_name: self.gdata})\n",
    "                self.ctx = self.__global.new_child()\n",
    "                self.gdata.ctx = self.ctx\n",
    "        \n",
    "                for folder in folders_map:\n",
    "                    gfolder = GData(gtype='folder', name=folder, location=folders_map[folder], parent = location_name)\n",
    "                    setattr(self.gdata, folder, gfolder)\n",
    "                    self.ctx[folder] = gfolder\n",
    "                for f in files_map:\n",
    "                    gfile = GData(gtype='file', name=f, location=files_map[f], parent = location_name)\n",
    "                    setattr(self.gdata, f, gfile)\n",
    "                    self.ctx[f] = gfile\n",
    "            else:\n",
    "                self.ctx = self.ctx[self.ctx[location_name].parent].ctx.new_child()\n",
    "                self.ctx[location_name].ctx = self.ctx\n",
    "\n",
    "                for folder in folders_map:\n",
    "                    gfolder = GData(gtype='folder', name=folder, location=folders_map[folder], parent = location_name)\n",
    "                    setattr(self.ctx[location_name], folder, gfolder)\n",
    "                    self.ctx[location_name].ctx[folder] = gfolder\n",
    "                for f in files_map:\n",
    "                    gfile = GData(gtype='file', name=f, location=files_map[f], parent = location_name)\n",
    "                    setattr(self.ctx[location_name], f, gfile)\n",
    "                    self.ctx[location_name].ctx[f] = gfile\n",
    "\n",
    "    def __getfilenames__(self, files: list):\n",
    "        cleaned_prefix = [x  for x in files if x[0].isalnum()]\n",
    "        return [x.split('.')[0] if '.' in x else x for x in cleaned_prefix]\n",
    "\n",
    "    def __getfoldernames__(self, folders: list):\n",
    "        folders = [f.strip('.') for f in folders if '.' in f]\n",
    "        return [''.join(filter(str.isalnum, f)) for f in folders]\n",
    "    \n",
    "    def __cleanname__(self, name: str):\n",
    "        name = name.strip('.') if '.' in name else name\n",
    "        if '/' in name:\n",
    "            return name.strip('/')\n",
    "        elif '\\\\' in name:\n",
    "            return name.strip('\\\\')\n",
    "        else:\n",
    "            return name\n",
    "        \n",
    "                "
   ]
  },
  {
   "cell_type": "code",
   "execution_count": null,
   "metadata": {},
   "outputs": [],
   "source": [
    "class GLabel(GData):\n",
    "    path: str\n",
    "    name: str\n",
    "    identifiers: Union[list[str], None] = None\n",
    "\n",
    "class PathLabels:\n",
    "    current_directory = GLabel(path='.', name='current_directory', identifiers=['current', 'this', 'here', 'cwd'])\n",
    "    parent_directory = GLabel(path='..', name='parent_directory', identifiers=['parent', 'up', 'back', 'previous'])\n",
    "\n",
    "class GPath(GData):\n",
    "    name: GLabel\n",
    "    current_dir: str\n",
    "    previous_dir: Union[str, None]\n",
    "    contents: pd.DataFrame\n",
    "    folders: pd.Series\n",
    "    files: pd.Series\n",
    "\n",
    "class GDirectory:\n",
    "    def __init__(self, path: Union[str, Path]):\n",
    "        if isinstance(path, str):\n",
    "            self.__path = path\n",
    "        self.D = self.__directory__()\n",
    "        self.__keys__ = self.D.dict().keys()\n",
    "        self.__map__ = self.D.dict()\n",
    "\n",
    "    def __directory__(self):\n",
    "        walker = iter(os.walk(self.__path, topdown=True))\n",
    "        drct = [p for p in walker]\n",
    "        directories = GData(name='directories')\n",
    "        for i in range(len(drct)):\n",
    "            Fi = drct[i]\n",
    "            if Fi[0].count('/') > 1:\n",
    "                continue\n",
    "            if Fi[0].count('/') == 1:\n",
    "                Fi[0] = Fi[0].split('/')[1]\n",
    "            columns = pd.MultiIndex.from_tuples({(Fi[0], 'files'), (Fi[0], 'subdirectories')}, names=['Directory', 'Type'])\n",
    "\n",
    "            sub = Fi[1]\n",
    "            fls = Fi[2]\n",
    "            df = pd.DataFrame([sub, fls], index=columns).T\n",
    "            dir_name = Fi[0]\n",
    "\n",
    "            if '.' in dir_name or 'root' in dir_name:\n",
    "                if dir_name == '.' or dir_name == 'root':\n",
    "                    name = PathLabels.current_directory.name\n",
    "                    identifier = PathLabels.current_directory.identifiers\n",
    "\n",
    "                elif dir_name == '..':\n",
    "                    name = PathLabels.parent_directory.name\n",
    "                    identifier = PathLabels.parent_directory.identifiers\n",
    "\n",
    "                else:\n",
    "                    name = dir_name.replace('.', '_')\n",
    "                    identifier = None\n",
    "            else:\n",
    "                name = dir_name\n",
    "                identifier = None\n",
    "\n",
    "            files = df[dir_name].files\n",
    "            subdirectories = df[dir_name].subdirectories\n",
    "            path_label = GLabel(path=dir_name, name=name, identifiers=identifier)\n",
    "            gpath = GPath(name=path_label, current_dir=dir_name, files=files, folders=subdirectories, contents=df[dir_name])\n",
    "            setattr(directories, name, gpath)\n",
    "\n",
    "            if path_label.identifiers is not None:\n",
    "                for ident in path_label.identifiers:\n",
    "                    setattr(directories, ident, gpath)\n",
    "\n",
    "        return directories\n",
    "    \n",
    "    def __getitem__(self, item):\n",
    "        return self.__map__[item]\n",
    "\n",
    "    def __contains__(self, item):\n",
    "        return item in self.__keys__\n",
    "\n",
    "    def __add__(self, other: str):\n",
    "        if '.' in other:\n",
    "            ftype = 'file'\n",
    "        else:\n",
    "            ftype = 'folder'\n",
    "        if ftype == 'file':\n",
    "            with open(other, 'w') as f:\n",
    "                f.write('')\n",
    "        else:\n",
    "            os.mkdir(other)\n",
    "\n",
    "    def __repr__(self):\n",
    "        return self.D.__repr__()\n",
    "    "
   ]
  },
  {
   "cell_type": "code",
   "execution_count": null,
   "metadata": {},
   "outputs": [],
   "source": [
    "GDirectory('.')"
   ]
  },
  {
   "cell_type": "code",
   "execution_count": null,
   "metadata": {},
   "outputs": [],
   "source": [
    "xgl = XGenLoader(xgenN.obj, tree=xgenN.tree)"
   ]
  },
  {
   "cell_type": "code",
   "execution_count": null,
   "metadata": {},
   "outputs": [],
   "source": [
    "console.save_html('CodexGenerator_ModuleTree.html')"
   ]
  },
  {
   "cell_type": "code",
   "execution_count": null,
   "metadata": {},
   "outputs": [],
   "source": [
    "from rich.console import Console\n",
    "console = Console(record=True)\n",
    "console.print(xgenN.tree)"
   ]
  },
  {
   "cell_type": "code",
   "execution_count": null,
   "metadata": {},
   "outputs": [],
   "source": [
    "l = ['test', 'test2', 'test3']\n",
    "str().join(l)"
   ]
  },
  {
   "cell_type": "code",
   "execution_count": null,
   "metadata": {},
   "outputs": [],
   "source": [
    "\n",
    "effects = xgl.get_child('Effects')\n",
    "distortion = xgl.get_child('DistortionEffect', effects)\n",
    "process = xgl.get_child('Process', distortion)\n",
    "Geffects = GObject(**effects)\n",
    "Gdistortion = GObject(**distortion, parent=Geffects)\n",
    "Gprocess = GObject(**process, parent=Gdistortion)\n",
    "fprs = FParse(Gprocess)\n",
    "fprs()"
   ]
  },
  {
   "cell_type": "code",
   "execution_count": null,
   "metadata": {
    "notebookRunGroups": {
     "groupValue": "1"
    }
   },
   "outputs": [],
   "source": [
    "GEffect = xgenN.GxLoader.get_child('Effects')\n",
    "GEffectFile = xgenN.GxLoader.get_child('DistortionEffect', GEffect)\n",
    "GEffectApplyTo = xgenN.GxLoader.get_child('ApplyTo', GEffectFile)\n",
    "GEffectDistortionEquals = xgenN.GxLoader.get_child('Equals', GEffectFile)\n",
    "\n",
    "WaveGParser = GEffectFile['parser']\n",
    "Syntax(WaveGParser.GDoc.doc, 'python', theme='inkpot', line_numbers=True)"
   ]
  },
  {
   "cell_type": "code",
   "execution_count": null,
   "metadata": {},
   "outputs": [],
   "source": [
    "GEDE = GEffectDistortionEquals['parser']\n",
    "str(signature(GEDE.obj))"
   ]
  },
  {
   "cell_type": "code",
   "execution_count": null,
   "metadata": {},
   "outputs": [],
   "source": [
    "GEffectFile['reference'] == XTypes.XClass"
   ]
  },
  {
   "cell_type": "code",
   "execution_count": null,
   "metadata": {},
   "outputs": [],
   "source": [
    "GTyping.Module(GEffect['reference'])"
   ]
  }
 ],
 "metadata": {
  "kernelspec": {
   "display_name": "base",
   "language": "python",
   "name": "python3"
  },
  "language_info": {
   "codemirror_mode": {
    "name": "ipython",
    "version": 3
   },
   "file_extension": ".py",
   "mimetype": "text/x-python",
   "name": "python",
   "nbconvert_exporter": "python",
   "pygments_lexer": "ipython3",
   "version": "3.9.13"
  },
  "orig_nbformat": 4
 },
 "nbformat": 4,
 "nbformat_minor": 2
}
