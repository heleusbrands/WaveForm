{
 "cells": [
  {
   "cell_type": "code",
   "execution_count": null,
   "metadata": {},
   "outputs": [],
   "source": [
    "import static_sox\n",
    "import os\n",
    "static_sox.add_paths()  # Only install if sox is not available.\n",
    "os.system(\"sox --help\")"
   ]
  },
  {
   "cell_type": "code",
   "execution_count": null,
   "metadata": {
    "notebookRunGroups": {
     "groupValue": "1"
    }
   },
   "outputs": [],
   "source": [
    "%load_ext autoreload\n",
    "import os\n",
    "import sys\n",
    "rubberband_path = 'C:\\\\Users\\\\ryanw\\\\Documents\\\\Code\\\\Modules\\\\NX\\\\rubberband'\n",
    "if rubberband_path not in sys.path:\n",
    "    print('Adding rubberband folder to sys.path.')\n",
    "    sys.path.append(rubberband_path)\n",
    "\n",
    "if rubberband_path not in os.environ['PATH']:\n",
    "    print('Adding rubberband folder to PATH.')\n",
    "    os.environ['PATH'] += f';{rubberband_path}'\n",
    "\n",
    "if 'rubberband' not in os.environ:\n",
    "    print('Adding rubberband.exe as environment variable.')\n",
    "    os.environ['rubberband'] = f'{rubberband_path}\\\\rubberband.exe'"
   ]
  },
  {
   "cell_type": "code",
   "execution_count": null,
   "metadata": {
    "notebookRunGroups": {
     "groupValue": "1"
    }
   },
   "outputs": [],
   "source": [
    "%autoreload\n",
    "\n",
    "from xpaudio import *\n",
    "from wavegraph import *\n",
    "from stftpitchshift import StftPitchShift, pitcher\n",
    "import sox\n",
    "from IPython.display import Audio, display, clear_output, HTML\n",
    "from ipywidgets import interact, interactive, fixed, interact_manual\n",
    "import ipywidgets as widgets\n",
    "from typing import TypeVar\n",
    "from collections import deque\n",
    "from pydantic import ValidationError\n",
    "#import IPython.display\n",
    "import numpy as np\n",
    "import array\n",
    "from IPython.display import clear_output\n",
    "from copy import deepcopy, copy\n",
    "import time\n",
    "import pandas as pd\n",
    "import itertools\n",
    "from xperiment import *\n",
    "from math import log, log2\n",
    "import pyrubberband as pyrb\n",
    "from pyrubberband.pyrb import __rubberband\n",
    "from pedalboard import VST3Plugin"
   ]
  },
  {
   "cell_type": "code",
   "execution_count": 1,
   "metadata": {
    "notebookRunGroups": {
     "groupValue": "2"
    }
   },
   "outputs": [],
   "source": [
    "from msl.loadlib import LoadLibrary\n",
    "from win32com import client\n",
    "import os\n",
    "import ctypes as ct\n",
    "import rubberwrapper\n",
    "from pydantic import create_model, BaseModel\n",
    "import clr\n",
    "from pydict2class import PyDict2Class\n",
    "from pprint import pprint\n",
    "from enum import Enum\n",
    "# import mappingproxy\n",
    "from typing import Mapping, Any, Dict, List, Tuple, Union, Optional, Sequence, Iterable, Callable, TypeVar, Generic, Set, Deque, Iterator, NamedTuple, FrozenSet\n",
    "from itertools import chain\n",
    "from pyclibrary import CLibrary\n",
    "from collections import UserString\n",
    "from IPython.core.oinspect import Inspector, object_info\n",
    "from copy import deepcopy\n",
    "import pandas as pd\n"
   ]
  },
  {
   "cell_type": "code",
   "execution_count": 3,
   "metadata": {},
   "outputs": [],
   "source": [
    "clr.FindAssembly('IAsyncStateMachine')\n"
   ]
  },
  {
   "cell_type": "code",
   "execution_count": 10,
   "metadata": {},
   "outputs": [],
   "source": [
    "NWaves_Loc = r'C:\\Users\\ryanw\\Documents\\Code\\Modules\\NX\\nwaves.0.9.6\\lib\\net5.0\\NWaves.dll'\n",
    "NWaves2_Loc = r'C:\\Users\\ryanw\\Documents\\Code\\Modules\\NX\\nwaves.0.9.6\\lib\\netstandard2.0\\NWaves.dll'\n",
    "NWavesNet = LoadLibrary(\n",
    "    NWaves2_Loc, \n",
    "    'net'\n",
    ")"
   ]
  },
  {
   "cell_type": "code",
   "execution_count": 9,
   "metadata": {
    "notebookRunGroups": {
     "groupValue": "2"
    }
   },
   "outputs": [],
   "source": [
    "rw_loc = os.path.dirname(rubberwrapper.__file__)\n",
    "NWaves_Loc = r'C:\\Users\\ryanw\\Documents\\Code\\Modules\\NX\\nwaves.0.9.6\\lib\\net5.0\\NWaves.dll'\n",
    "\n",
    "RubberbandNet = LoadLibrary(\n",
    "    f'{rw_loc}/rubberband-sharp.dll', \n",
    "    'net', \n",
    "    mode=ct.RTLD_GLOBAL\n",
    ")\n",
    "RubberbandWin = LoadLibrary(\n",
    "    f'{rw_loc}/rubberband-dll-x64.dll', \n",
    "    'windll', \n",
    "    mode=ct.RTLD_GLOBAL\n",
    ")\n",
    "\n",
    "#BinderWin = CLibrary(rw_loc + '/rubberband-dll-x64.dll')\n",
    "#BinderNet = CLibrary(rw_loc + '/rubberband-sharp.dll')\n"
   ]
  },
  {
   "cell_type": "code",
   "execution_count": 20,
   "metadata": {},
   "outputs": [
    {
     "data": {
      "text/plain": [
       "[('Base', <module 'NWaves.Transforms.Base'>),\n",
       " ('CepstralTransform', NWaves.Transforms.CepstralTransform),\n",
       " ('Dct1', NWaves.Transforms.Dct1),\n",
       " ('Dct2', NWaves.Transforms.Dct2),\n",
       " ('Dct3', NWaves.Transforms.Dct3),\n",
       " ('Dct4', NWaves.Transforms.Dct4),\n",
       " ('FastDct2', NWaves.Transforms.FastDct2),\n",
       " ('FastDct3', NWaves.Transforms.FastDct3),\n",
       " ('FastDct4', NWaves.Transforms.FastDct4),\n",
       " ('FastMdct', NWaves.Transforms.FastMdct),\n",
       " ('Fft', System.Fft),\n",
       " ('Fft64', System.Fft64),\n",
       " ('Goertzel', NWaves.Transforms.Goertzel),\n",
       " ('HartleyTransform', NWaves.Transforms.HartleyTransform),\n",
       " ('HilbertTransform', NWaves.Transforms.HilbertTransform),\n",
       " ('HilbertTransform64', NWaves.Transforms.HilbertTransform64),\n",
       " ('IDct', NWaves.Transforms.IDct),\n",
       " ('MagnitudePhaseList', System.MagnitudePhaseList),\n",
       " ('Mdct', NWaves.Transforms.Mdct),\n",
       " ('MellinTransform', NWaves.Transforms.MellinTransform),\n",
       " ('RealFft', System.RealFft),\n",
       " ('RealFft64', System.RealFft64),\n",
       " ('Stft', System.Stft),\n",
       " ('Wavelets', <module 'NWaves.Transforms.Wavelets'>),\n",
       " ('__class__', CLR.ModuleObject),\n",
       " ('__doc__',\n",
       "  'Namespace containing types from the following assemblies:\\n\\n- NWaves, Version=0.9.6.0, Culture=neutral, PublicKeyToken=null\\n'),\n",
       " ('__file__',\n",
       "  'C:\\\\Users\\\\ryanw\\\\Documents\\\\Code\\\\Modules\\\\NX\\\\nwaves.0.9.6\\\\lib\\\\netstandard2.0\\\\NWaves.dll'),\n",
       " ('__loader__', <clr.loader.DotNetLoader at 0x22519e344f0>),\n",
       " ('__name__', 'NWaves.Transforms'),\n",
       " ('__package__', 'NWaves.Transforms'),\n",
       " ('__path__', []),\n",
       " ('__spec__',\n",
       "  ModuleSpec(name='NWaves.Transforms', loader=<clr.loader.DotNetLoader object at 0x0000022519E344F0>, submodule_search_locations=[]))]"
      ]
     },
     "execution_count": 20,
     "metadata": {},
     "output_type": "execute_result"
    }
   ],
   "source": [
    "from inspect import *\n",
    "getmembers(NWavesNet.lib.NWaves.Transforms)\n"
   ]
  },
  {
   "cell_type": "code",
   "execution_count": 12,
   "metadata": {},
   "outputs": [
    {
     "data": {
      "text/plain": [
       "{'type_name': 'ModuleObject',\n",
       " 'base_class': \"<class 'CLR.ModuleObject'>\",\n",
       " 'string_form': \"<module 'NWaves.Transforms'>\",\n",
       " 'namespace': None,\n",
       " 'length': None,\n",
       " 'file': 'c:\\\\users\\\\ryanw\\\\documents\\\\code\\\\modules\\\\nx\\\\unknown',\n",
       " 'definition': None,\n",
       " 'docstring': 'Namespace containing types from the following assemblies:\\n\\n- NWaves, Version=0.9.6.0, Culture=neutral, PublicKeyToken=null',\n",
       " 'source': None,\n",
       " 'init_definition': None,\n",
       " 'class_docstring': None,\n",
       " 'init_docstring': None,\n",
       " 'call_def': None,\n",
       " 'call_docstring': None,\n",
       " 'ismagic': False,\n",
       " 'isalias': False,\n",
       " 'isclass': None,\n",
       " 'found': True,\n",
       " 'name': '',\n",
       " 'subclasses': None}"
      ]
     },
     "execution_count": 12,
     "metadata": {},
     "output_type": "execute_result"
    }
   ],
   "source": [
    "look.info(NWavesNet.lib.NWaves.Transforms, detail_level=1)"
   ]
  },
  {
   "cell_type": "code",
   "execution_count": 3,
   "metadata": {
    "notebookRunGroups": {
     "groupValue": "2"
    }
   },
   "outputs": [],
   "source": [
    "class XString(UserString):\n",
    "\n",
    "    @property\n",
    "    def T(self):\n",
    "        _tdata = deepcopy(self._tdata)\n",
    "        data = deepcopy(self.data)\n",
    "        self._tdata = data\n",
    "        self.data = _tdata\n",
    "        return self\n",
    "\n",
    "    def iTab(self, n=1):\n",
    "        self._tdata = self.data + '\\t'*n\n",
    "        self.data = '\\t'*n + self.data\n",
    "        return self\n",
    "    \n",
    "    def iLine(self, n=1):\n",
    "        self._tdata = self.data + '\\n'*n\n",
    "        self.data = '\\n'*n + self.data\n",
    "        return self\n",
    "    \n",
    "    def iSpace(self, n=1):\n",
    "        self._tdata = self.data + ' '*n\n",
    "        self.data = ' '*n + self.data\n",
    "        return self\n",
    "    \n",
    "    def iAllocate(self, n=10):\n",
    "        self._Aloc = n \n",
    "        self._AlocData = []\n",
    "        return self\n",
    "    \n",
    "    def iAlok(self, value):\n",
    "        return self.iAllocate(value)\n",
    "    \n",
    "    def i2Alok(self, valueA, valueB):\n",
    "        A = XString(valueA)\n",
    "        B = XString(valueB)\n",
    "        Alen = len(A)\n",
    "        Blen = len(B)\n",
    "        padding = self._Aloc - (Alen + Blen)\n",
    "        Aloc = XString(A)\n",
    "        Aloc.iSpace(padding).T\n",
    "        Aloc += B\n",
    "        self._AlocData.append(Aloc)\n",
    "        return Aloc\n",
    "    \n",
    "    def iGetALok(self):\n",
    "        return self._AlocData\n",
    "    \n",
    "    def iAlokDlim(self, delim='\\n'):\n",
    "        if delim == '_':\n",
    "            delim = '\\n' + ('_'*self._Aloc) + '\\n\\n' \n",
    "        \n",
    "        return delim.join([str(x) for x in self._AlocData])\n"
   ]
  },
  {
   "cell_type": "code",
   "execution_count": 4,
   "metadata": {
    "notebookRunGroups": {
     "groupValue": "2"
    }
   },
   "outputs": [
    {
     "ename": "SyntaxError",
     "evalue": "invalid syntax (Temp/ipykernel_19960/457645869.py, line 128)",
     "output_type": "error",
     "traceback": [
      "\u001b[1;36m  File \u001b[1;32m\"C:\\Users\\ryanw\\AppData\\Local\\Temp/ipykernel_19960/457645869.py\"\u001b[1;36m, line \u001b[1;32m128\u001b[0m\n\u001b[1;33m    def\u001b[0m\n\u001b[1;37m        ^\u001b[0m\n\u001b[1;31mSyntaxError\u001b[0m\u001b[1;31m:\u001b[0m invalid syntax\n"
     ]
    }
   ],
   "source": [
    "class CodeXDoc:\n",
    "    def __init__(self, name=None):\n",
    "        self.name = name\n",
    "        self.arg_delim = ', '\n",
    "        self.data = XString('')\n",
    "\n",
    "    def __repr__(self):\n",
    "        return self.data.data.__repr__()\n",
    "    \n",
    "    def STR(self):\n",
    "        return self.data.data.__str__()\n",
    "    \n",
    "    def add_import(self, import_str):\n",
    "        self.data += XString(f'import {import_str}').iLine().T\n",
    "\n",
    "    def add_class(self, class_str):\n",
    "        self.data += XString(f'class {class_str}:').iLine(2)\n",
    "\n",
    "    def add_init(self, init_args):\n",
    "        self.data += XString(f'def __init__({self.arg_delim.join(init_args)}):').iTab().iLine()\n",
    "\n",
    "    def add_attribute(self, attr_name, attr_value=None):\n",
    "        self.data += XString(f'self.{attr_name} = {attr_value}').iTab(2).iLine()\n",
    "\n",
    "    def add_method(self, method_name, method_args, method_body):\n",
    "        self.data.iLine().T\n",
    "        self.data += XString(f'def {method_name}({self.arg_delim.join(method_args)}):').iTab().iLine()\n",
    "        self.data += XString(f'{method_body}').iTab(2).iLine()\n",
    "\n",
    "class XGenSettings(Settings):\n",
    "    class Config:\n",
    "        arbitrary_types_allowed = True\n",
    "        extra = 'allow'\n",
    "        allow_mutation = True\n",
    "\n",
    "    name: str = None\n",
    "    module: object\n",
    "    add_init: bool = True\n",
    "    class_type: object\n",
    "    attr_type: object\n",
    "    func_type: object\n",
    "\n",
    "class XGenFunction(Settings):\n",
    "    funtion_name: str\n",
    "    call_signature: str\n",
    "    body: str = None\n",
    "    call: object = None\n",
    "    return_type: object = None\n",
    "\n",
    "class XGenAttributes(Settings):\n",
    "    attribute_name: str\n",
    "    attribute_value: object = None\n",
    "    attribute_type: object = None\n",
    "\n",
    "class XGenClassResources:\n",
    "    class_name: str = None\n",
    "    class_signature: str = None\n",
    "    attributes: dict = {}\n",
    "    methods: list = []\n",
    "\n",
    "class XType:\n",
    "    def __init__(self, comparison_func: Callable):\n",
    "        self.comparison_func = comparison_func\n",
    "\n",
    "    def __eq__(self, other):\n",
    "        return self.comparison_func(other)\n",
    "\n",
    "class CodeXGen:\n",
    "    def __init__(self, name=None, obj=None):\n",
    "        self._inspector = None\n",
    "        self.settings = XGenSettings(name=name)\n",
    "        self.generated_resources = XGenClassResources()\n",
    "        if obj is not None: self.settings.module = obj\n",
    "\n",
    "\n",
    "    @property\n",
    "    def analyze(self):\n",
    "        if self._inspector is None:\n",
    "            self._inspector = Inspector()\n",
    "        return self._inspector\n",
    "    \n",
    "    @property\n",
    "    def _path(self):\n",
    "        return f'{str(self.settings.module.__module__)}.{str(self.settings.module.__name__)}'\n",
    "    \n",
    "    def _data(self, obj=None):\n",
    "        return obj.__dict__ if obj is not None else self.settings.module.__dict__\n",
    "    \n",
    "    \n",
    "    def _info(self, obj=None):\n",
    "        if obj is not None: return self.analyze.info(obj)\n",
    "        return self.analyze.info(self.settings.module)\n",
    "    \n",
    "    def name_from_repr(self, obj):\n",
    "        if obj is not None: return obj.__repr__().split(\"'\")[1]\n",
    "        return self.settings.module.__repr__().split(\"'\")[1]\n",
    "\n",
    "    \n",
    "    def _call_signature(self, obj=None):\n",
    "        if obj is not None: return self.analyze.call_signature(obj)\n",
    "        return self.analyze.pdef(self.settings.module)\n",
    "\n",
    "    def create_xtype(self, comparison_func: Callable):\n",
    "        return XType(comparison_func)\n",
    "    \n",
    "    def _module(self, obj):\n",
    "        return obj.__module__ if obj is not None else self.settings.module.__module__\n",
    "    \n",
    "    def _get_functions(self, obj=None):\n",
    "        if obj is not None: funcs = {k:v for (k, v) in self._data(obj).items() if v == self.settings.func_type}\n",
    "        else: funcs = {k:v for (k, v) in self._data().items() if v == self.settings.func_type}\n",
    "        for k, v in funcs.items():\n",
    "            call_sig = self._info(obj=v)['init_definition']\n",
    "            name = k.lower()\n",
    "            return_type = f\"{self._path}.{k}{call_sig}\"\n",
    "            method_config = XGenFunction(funtion_name=name, call_signature=self._call_signature(v), return_type=return_type)\n",
    "            self.generated_resources.methods.append(method_config)\n",
    "\n",
    "    def _get_attributes(self, obj=None):\n",
    "        if obj is not None: attrs = {k:v for (k, v) in self._data(obj).items() if v == self.settings.attr_type}\n",
    "        else: attrs = {k:v for (k, v) in self._data().items() if v == self.settings.attr_type}\n",
    "        for k, v in attrs.items():\n",
    "            name = k\n",
    "            if v is not None: value = f\"{self._path}.{k}\"\n",
    "            attribute_config = XGenAttributes(attribute_name=name, attribute_value=None, attribute_type=None)\n",
    "            self.generated_resources.attributes[name] = attribute_config\n",
    "    \n",
    "    def "
   ]
  },
  {
   "cell_type": "code",
   "execution_count": 101,
   "metadata": {},
   "outputs": [
    {
     "name": "stdout",
     "output_type": "stream",
     "text": [
      "hello          world\n",
      "____________________\n",
      "\n",
      "XString        Alloc\n",
      "____________________\n",
      "\n",
      "Is              Sexy\n"
     ]
    }
   ],
   "source": [
    "\n",
    "y = XString('')\n",
    "y.iAllocate(20)\n",
    "\n",
    "y.iAddAlloc('hello', 'world')\n",
    "y.iAddAlloc('XString', 'Alloc')\n",
    "y.iAddAlloc('Is', 'Sexy')\n",
    "print(y.iAllocDelim('_'))"
   ]
  },
  {
   "cell_type": "code",
   "execution_count": 112,
   "metadata": {},
   "outputs": [
    {
     "name": "stdout",
     "output_type": "stream",
     "text": [
      "import TestModule\n",
      "\n",
      "\n",
      "class TestClass:\n",
      "\tdef __init__(self, test):\n",
      "\t\tself.test = test\n",
      "\n",
      "\tdef test_method(self, test):\n",
      "\t\tprint(test)\n"
     ]
    }
   ],
   "source": [
    "tdoc = CodeXDoc()\n",
    "tdoc.add_import('TestModule')\n",
    "tdoc.add_class('TestClass')\n",
    "tdoc.add_init(['self', 'test'])\n",
    "tdoc.add_attribute('test', 'test')\n",
    "tdoc.add_method('test_method', ['self', 'test'], 'print(test)')\n",
    "print(tdoc.STR())"
   ]
  },
  {
   "cell_type": "code",
   "execution_count": 7,
   "metadata": {},
   "outputs": [],
   "source": [
    "\n",
    "d = {k:v for (k, v) in RubberbandNet.lib.RubberBand.RubberBandStretcher.__dict__.items() if not k.startswith('__')}"
   ]
  },
  {
   "cell_type": "code",
   "execution_count": 8,
   "metadata": {},
   "outputs": [
    {
     "data": {
      "text/plain": [
       "(False, True)"
      ]
     },
     "execution_count": 8,
     "metadata": {},
     "output_type": "execute_result"
    }
   ],
   "source": [
    "def func_type(other):\n",
    "    return 'CLR.MethodObject' in str(type(other))\n",
    "\n",
    "def get_name_from_repr(obj):\n",
    "    return obj.__repr__().split(\"'\")[1]\n",
    "\n",
    "options = d['Options']\n",
    "reset = d['Reset']\n",
    "FuncType = XType(func_type)\n",
    "options == FuncType, reset == FuncType"
   ]
  },
  {
   "cell_type": "code",
   "execution_count": 77,
   "metadata": {},
   "outputs": [
    {
     "ename": "AttributeError",
     "evalue": "'Options' object has no attribute '__name__'",
     "output_type": "error",
     "traceback": [
      "\u001b[1;31m---------------------------------------------------------------------------\u001b[0m",
      "\u001b[1;31mAttributeError\u001b[0m                            Traceback (most recent call last)",
      "\u001b[1;32m~\\AppData\\Local\\Temp/ipykernel_20596/382931686.py\u001b[0m in \u001b[0;36m<module>\u001b[1;34m\u001b[0m\n\u001b[0;32m      1\u001b[0m \u001b[0mRubberbandNet\u001b[0m\u001b[1;33m.\u001b[0m\u001b[0mlib\u001b[0m\u001b[1;33m.\u001b[0m\u001b[0mRubberBand\u001b[0m\u001b[1;33m.\u001b[0m\u001b[0mRubberBandStretcher\u001b[0m\u001b[1;33m.\u001b[0m\u001b[0m__name__\u001b[0m\u001b[1;33m\u001b[0m\u001b[1;33m\u001b[0m\u001b[0m\n\u001b[1;32m----> 2\u001b[1;33m \u001b[0mRubberbandNet\u001b[0m\u001b[1;33m.\u001b[0m\u001b[0mlib\u001b[0m\u001b[1;33m.\u001b[0m\u001b[0mRubberBand\u001b[0m\u001b[1;33m.\u001b[0m\u001b[0mRubberBandStretcher\u001b[0m\u001b[1;33m.\u001b[0m\u001b[0mDefaultOptions\u001b[0m\u001b[1;33m.\u001b[0m\u001b[0m__name__\u001b[0m\u001b[1;33m\u001b[0m\u001b[1;33m\u001b[0m\u001b[0m\n\u001b[0m",
      "\u001b[1;31mAttributeError\u001b[0m: 'Options' object has no attribute '__name__'"
     ]
    }
   ],
   "source": [
    "RubberbandNet.lib.RubberBand.RubberBandStretcher.__name__\n",
    "RubberbandNet.lib.RubberBand.RubberBandStretcher.DefaultOptions.__subclasshook__"
   ]
  },
  {
   "cell_type": "code",
   "execution_count": 69,
   "metadata": {},
   "outputs": [
    {
     "data": {
      "text/plain": [
       "{'type_name': 'MethodObject',\n",
       " 'base_class': \"<class 'CLR.MethodObject'>\",\n",
       " 'string_form': \"<method 'Reset'>\",\n",
       " 'namespace': None,\n",
       " 'length': None,\n",
       " 'file': 'c:\\\\users\\\\ryanw\\\\documents\\\\code\\\\modules\\\\nx\\\\unknown',\n",
       " 'definition': None,\n",
       " 'docstring': 'Void Reset()',\n",
       " 'source': None,\n",
       " 'init_definition': None,\n",
       " 'class_docstring': None,\n",
       " 'init_docstring': None,\n",
       " 'call_def': None,\n",
       " 'call_docstring': None,\n",
       " 'ismagic': False,\n",
       " 'isalias': False,\n",
       " 'isclass': None,\n",
       " 'found': True,\n",
       " 'name': '',\n",
       " 'subclasses': None}"
      ]
     },
     "execution_count": 69,
     "metadata": {},
     "output_type": "execute_result"
    }
   ],
   "source": [
    "look.info(d['Reset'])"
   ]
  },
  {
   "cell_type": "code",
   "execution_count": 11,
   "metadata": {},
   "outputs": [],
   "source": [
    "look = Inspector()\n",
    "RBS_Info = look.info(RubberbandNet.lib.RubberBand.RubberBandStretcher)"
   ]
  },
  {
   "cell_type": "code",
   "execution_count": 79,
   "metadata": {},
   "outputs": [
    {
     "data": {
      "text/plain": [
       "str"
      ]
     },
     "execution_count": 79,
     "metadata": {},
     "output_type": "execute_result"
    }
   ],
   "source": [
    "RBS_Info\n",
    "linfo = look.info(RubberbandNet.lib.RubberBand.RubberBandStretcher)\n",
    "#look.pinfo(RubberbandNet.lib.RubberBand.RubberBandStretcher, info=linfo)\n",
    "type(linfo['init_definition'])"
   ]
  },
  {
   "cell_type": "code",
   "execution_count": 18,
   "metadata": {},
   "outputs": [
    {
     "ename": "FileNotFoundException",
     "evalue": "Could not load file or assembly 'CLR.MethodObject' or one of its dependencies. The system cannot find the file specified.\r\nFile name: 'CLR.MethodObject'\r\n   at System.Reflection.RuntimeAssembly._nLoad(AssemblyName fileName, String codeBase, Evidence assemblySecurity, RuntimeAssembly locationHint, StackCrawlMark& stackMark, IntPtr pPrivHostBinder, Boolean throwOnFileNotFound, Boolean forIntrospection, Boolean suppressSecurityChecks)\r\n   at System.Reflection.RuntimeAssembly.InternalLoadAssemblyName(AssemblyName assemblyRef, Evidence assemblySecurity, RuntimeAssembly reqAssembly, StackCrawlMark& stackMark, IntPtr pPrivHostBinder, Boolean throwOnFileNotFound, Boolean forIntrospection, Boolean suppressSecurityChecks)\r\n   at System.Reflection.Assembly.Load(AssemblyName assemblyRef)\r\n   at Python.Runtime.AssemblyManager.LoadAssembly(AssemblyName name)\r\n   at Python.Runtime.CLRModule.AddReference(String name)\r\n\r\nWRN: Assembly binding logging is turned OFF.\r\nTo enable assembly bind failure logging, set the registry value [HKLM\\Software\\Microsoft\\Fusion!EnableLog] (DWORD) to 1.\r\nNote: There is some performance penalty associated with assembly bind failure logging.\r\nTo turn this feature off, remove the registry value [HKLM\\Software\\Microsoft\\Fusion!EnableLog].\r\n",
     "output_type": "error",
     "traceback": [
      "\u001b[1;31m---------------------------------------------------------------------------\u001b[0m",
      "\u001b[1;31mFileNotFoundException\u001b[0m                     Traceback (most recent call last)",
      "\u001b[1;32m~\\AppData\\Local\\Temp/ipykernel_20596/2314790112.py\u001b[0m in \u001b[0;36m<module>\u001b[1;34m\u001b[0m\n\u001b[1;32m----> 1\u001b[1;33m \u001b[0mclr\u001b[0m\u001b[1;33m.\u001b[0m\u001b[0mAddReference\u001b[0m\u001b[1;33m(\u001b[0m\u001b[1;34m'CLR.MethodObject'\u001b[0m\u001b[1;33m)\u001b[0m\u001b[1;33m\u001b[0m\u001b[1;33m\u001b[0m\u001b[0m\n\u001b[0m",
      "\u001b[1;31mFileNotFoundException\u001b[0m: Could not load file or assembly 'CLR.MethodObject' or one of its dependencies. The system cannot find the file specified.\r\nFile name: 'CLR.MethodObject'\r\n   at System.Reflection.RuntimeAssembly._nLoad(AssemblyName fileName, String codeBase, Evidence assemblySecurity, RuntimeAssembly locationHint, StackCrawlMark& stackMark, IntPtr pPrivHostBinder, Boolean throwOnFileNotFound, Boolean forIntrospection, Boolean suppressSecurityChecks)\r\n   at System.Reflection.RuntimeAssembly.InternalLoadAssemblyName(AssemblyName assemblyRef, Evidence assemblySecurity, RuntimeAssembly reqAssembly, StackCrawlMark& stackMark, IntPtr pPrivHostBinder, Boolean throwOnFileNotFound, Boolean forIntrospection, Boolean suppressSecurityChecks)\r\n   at System.Reflection.Assembly.Load(AssemblyName assemblyRef)\r\n   at Python.Runtime.AssemblyManager.LoadAssembly(AssemblyName name)\r\n   at Python.Runtime.CLRModule.AddReference(String name)\r\n\r\nWRN: Assembly binding logging is turned OFF.\r\nTo enable assembly bind failure logging, set the registry value [HKLM\\Software\\Microsoft\\Fusion!EnableLog] (DWORD) to 1.\r\nNote: There is some performance penalty associated with assembly bind failure logging.\r\nTo turn this feature off, remove the registry value [HKLM\\Software\\Microsoft\\Fusion!EnableLog].\r\n"
     ]
    }
   ],
   "source": [
    "\n",
    "clr.AddReference('CLR.MethodObject')"
   ]
  },
  {
   "cell_type": "code",
   "execution_count": 49,
   "metadata": {},
   "outputs": [
    {
     "data": {
      "text/plain": [
       "{'type_name': 'CLRMetatype',\n",
       " 'base_class': \"<class 'clr._internal.CLRMetatype'>\",\n",
       " 'string_form': \"<class 'RubberBand.RubberBandStretcher'>\",\n",
       " 'namespace': None,\n",
       " 'length': None,\n",
       " 'file': 'c:\\\\users\\\\ryanw\\\\documents\\\\code\\\\modules\\\\nx\\\\rubberwrapper\\\\rubberband-sharp.dll',\n",
       " 'definition': None,\n",
       " 'docstring': 'Void .ctor(Int32, Int32, Options, Double, Double)',\n",
       " 'source': None,\n",
       " 'init_definition': '(\\n    sampleRate,\\n    channels,\\n    options=<RubberBand.Options object at 0x000001A518836F00>,\\n    initialTimeRatio=1.0,\\n    initialPitchScale=1.0,\\n)',\n",
       " 'class_docstring': None,\n",
       " 'init_docstring': 'Void .ctor(Int32, Int32, Options, Double, Double)',\n",
       " 'call_def': None,\n",
       " 'call_docstring': None,\n",
       " 'ismagic': False,\n",
       " 'isalias': False,\n",
       " 'isclass': True,\n",
       " 'found': True,\n",
       " 'name': '',\n",
       " 'subclasses': ''}"
      ]
     },
     "execution_count": 49,
     "metadata": {},
     "output_type": "execute_result"
    }
   ],
   "source": [
    "look = Inspector()\n",
    "look.info(RubberbandNet.lib.RubberBand.RubberBandStretcher, detail_level=1)"
   ]
  },
  {
   "cell_type": "code",
   "execution_count": 54,
   "metadata": {},
   "outputs": [
    {
     "data": {
      "text/plain": [
       "{'type_name': None,\n",
       " 'base_class': None,\n",
       " 'string_form': None,\n",
       " 'namespace': None,\n",
       " 'length': None,\n",
       " 'file': None,\n",
       " 'definition': None,\n",
       " 'docstring': None,\n",
       " 'source': None,\n",
       " 'init_definition': None,\n",
       " 'class_docstring': None,\n",
       " 'init_docstring': None,\n",
       " 'call_def': None,\n",
       " 'call_docstring': None,\n",
       " 'ismagic': None,\n",
       " 'isalias': None,\n",
       " 'isclass': None,\n",
       " 'found': None,\n",
       " 'name': None,\n",
       " 'obj': mappingproxy({'DefaultOptions': <field 'Options DefaultOptions'>,\n",
       "               'PercussiveOptions': <field 'Options PercussiveOptions'>,\n",
       "               'Options': RubberBand.Options,\n",
       "               'Dispose': <method 'Dispose'>,\n",
       "               'Reset': <method 'Reset'>,\n",
       "               'SetTimeRatio': <method 'SetTimeRatio'>,\n",
       "               'SetPitchScale': <method 'SetPitchScale'>,\n",
       "               'GetTimeRatio': <method 'GetTimeRatio'>,\n",
       "               'GetPitchScale': <method 'GetPitchScale'>,\n",
       "               'GetLatency': <method 'GetLatency'>,\n",
       "               'SetTransientsOption': <method 'SetTransientsOption'>,\n",
       "               'SetDetectorOption': <method 'SetDetectorOption'>,\n",
       "               'SetPhaseOption': <method 'SetPhaseOption'>,\n",
       "               'SetFormantOption': <method 'SetFormantOption'>,\n",
       "               'SetPitchOption': <method 'SetPitchOption'>,\n",
       "               'SetExpectedInputDuration': <method 'SetExpectedInputDuration'>,\n",
       "               'SetMaxProcessSize': <method 'SetMaxProcessSize'>,\n",
       "               'GetSamplesRequired': <method 'GetSamplesRequired'>,\n",
       "               'SetKeyFrameMap': <method 'SetKeyFrameMap'>,\n",
       "               'Study': <method 'Study'>,\n",
       "               'Process': <method 'Process'>,\n",
       "               'Available': <method 'Available'>,\n",
       "               'Retrieve': <method 'Retrieve'>,\n",
       "               'GetFrequencyCutoff': <method 'GetFrequencyCutoff'>,\n",
       "               'SetFrequencyCutoff': <method 'SetFrequencyCutoff'>,\n",
       "               'GetInputIncrement': <method 'GetInputIncrement'>,\n",
       "               'GetOutputIncrements': <method 'GetOutputIncrements'>,\n",
       "               'GetPhaseResetCurve': <method 'GetPhaseResetCurve'>,\n",
       "               'GetExactTimePoints': <method 'GetExactTimePoints'>,\n",
       "               'GetChannelCount': <method 'GetChannelCount'>,\n",
       "               'CalculateStretch': <method 'CalculateStretch'>,\n",
       "               'SetDebugLevel': <method 'SetDebugLevel'>,\n",
       "               'SetDefaultDebugLevel': <method 'SetDefaultDebugLevel'>,\n",
       "               '__init__': <method '__init__'>,\n",
       "               '__overloads__': <method '__init__'>,\n",
       "               'Overloads': <method '__init__'>,\n",
       "               '__doc__': 'Void .ctor(Int32, Int32, Options, Double, Double)',\n",
       "               '__repr__': <slot wrapper '__repr__' of 'RubberBandStretcher' objects>,\n",
       "               '__hash__': <slot wrapper '__hash__' of 'RubberBandStretcher' objects>,\n",
       "               '__str__': <slot wrapper '__str__' of 'RubberBandStretcher' objects>,\n",
       "               '__lt__': <slot wrapper '__lt__' of 'RubberBandStretcher' objects>,\n",
       "               '__le__': <slot wrapper '__le__' of 'RubberBandStretcher' objects>,\n",
       "               '__eq__': <slot wrapper '__eq__' of 'RubberBandStretcher' objects>,\n",
       "               '__ne__': <slot wrapper '__ne__' of 'RubberBandStretcher' objects>,\n",
       "               '__gt__': <slot wrapper '__gt__' of 'RubberBandStretcher' objects>,\n",
       "               '__ge__': <slot wrapper '__ge__' of 'RubberBandStretcher' objects>,\n",
       "               '__new__': <function RubberBandStretcher.__new__(*args, **kwargs)>,\n",
       "               '__module__': 'RubberBand'})}"
      ]
     },
     "execution_count": 54,
     "metadata": {},
     "output_type": "execute_result"
    }
   ],
   "source": [
    "object_info(obj = RubberbandNet.lib.RubberBand.RubberBandStretcher.__dict__)"
   ]
  },
  {
   "cell_type": "code",
   "execution_count": 43,
   "metadata": {},
   "outputs": [
    {
     "data": {
      "text/plain": [
       "'<RubberBand.RubberBandStretcher object at 0x000001A518C05D40>'"
      ]
     },
     "execution_count": 43,
     "metadata": {},
     "output_type": "execute_result"
    }
   ],
   "source": [
    "STRETCH_REF(41000, 1).__repr__()"
   ]
  },
  {
   "cell_type": "code",
   "execution_count": 22,
   "metadata": {},
   "outputs": [],
   "source": [
    "STRETCH_REF = RubberbandNet.lib.RubberBand.RubberBandStretcher\n",
    "Rbs_Dict = RubberbandNet.lib.RubberBand.RubberBandStretcher.__dict__"
   ]
  },
  {
   "cell_type": "code",
   "execution_count": 20,
   "metadata": {},
   "outputs": [
    {
     "name": "stdout",
     "output_type": "stream",
     "text": [
      "Help on class RubberBandStretcher in module RubberBand:\n",
      "\n",
      "class RubberBandStretcher(System.Object)\n",
      " |  Void .ctor(Int32, Int32, Options, Double, Double)\n",
      " |  \n",
      " |  Method resolution order:\n",
      " |      RubberBandStretcher\n",
      " |      System.Object\n",
      " |      builtins.object\n",
      " |  \n",
      " |  Methods defined here:\n",
      " |  \n",
      " |  __eq__(self, value, /)\n",
      " |      Return self==value.\n",
      " |  \n",
      " |  __ge__(self, value, /)\n",
      " |      Return self>=value.\n",
      " |  \n",
      " |  __gt__(self, value, /)\n",
      " |      Return self>value.\n",
      " |  \n",
      " |  __hash__(self, /)\n",
      " |      Return hash(self).\n",
      " |  \n",
      " |  __le__(self, value, /)\n",
      " |      Return self<=value.\n",
      " |  \n",
      " |  __lt__(self, value, /)\n",
      " |      Return self<value.\n",
      " |  \n",
      " |  __ne__(self, value, /)\n",
      " |      Return self!=value.\n",
      " |  \n",
      " |  __repr__(self, /)\n",
      " |      Return repr(self).\n",
      " |  \n",
      " |  __str__(self, /)\n",
      " |      Return str(self).\n",
      " |  \n",
      " |  ----------------------------------------------------------------------\n",
      " |  Static methods defined here:\n",
      " |  \n",
      " |  __new__(*args, **kwargs) from clr._internal.CLRMetatype\n",
      " |      Create and return a new object.  See help(type) for accurate signature.\n",
      " |  \n",
      " |  ----------------------------------------------------------------------\n",
      " |  Data and other attributes defined here:\n",
      " |  \n",
      " |  Available = <unbound method 'Available'>\n",
      " |  \n",
      " |  CalculateStretch = <unbound method 'CalculateStretch'>\n",
      " |  \n",
      " |  DefaultOptions = <RubberBand.Options object>\n",
      " |  \n",
      " |  Dispose = <unbound method 'Dispose'>\n",
      " |  \n",
      " |  GetChannelCount = <unbound method 'GetChannelCount'>\n",
      " |  \n",
      " |  GetExactTimePoints = <unbound method 'GetExactTimePoints'>\n",
      " |  \n",
      " |  GetFrequencyCutoff = <unbound method 'GetFrequencyCutoff'>\n",
      " |  \n",
      " |  GetInputIncrement = <unbound method 'GetInputIncrement'>\n",
      " |  \n",
      " |  GetLatency = <unbound method 'GetLatency'>\n",
      " |  \n",
      " |  GetOutputIncrements = <unbound method 'GetOutputIncrements'>\n",
      " |  \n",
      " |  GetPhaseResetCurve = <unbound method 'GetPhaseResetCurve'>\n",
      " |  \n",
      " |  GetPitchScale = <unbound method 'GetPitchScale'>\n",
      " |  \n",
      " |  GetSamplesRequired = <unbound method 'GetSamplesRequired'>\n",
      " |  \n",
      " |  GetTimeRatio = <unbound method 'GetTimeRatio'>\n",
      " |  \n",
      " |  Options = <class 'RubberBand.Options'>\n",
      " |      Python wrapper for .NET type RubberBand.RubberBandStretcher+Options\n",
      " |  \n",
      " |  \n",
      " |  Overloads = <unbound method '__init__'>\n",
      " |  \n",
      " |  PercussiveOptions = <RubberBand.Options object>\n",
      " |  \n",
      " |  Process = <unbound method 'Process'>\n",
      " |  \n",
      " |  Reset = <unbound method 'Reset'>\n",
      " |  \n",
      " |  Retrieve = <unbound method 'Retrieve'>\n",
      " |  \n",
      " |  SetDebugLevel = <unbound method 'SetDebugLevel'>\n",
      " |  \n",
      " |  SetDefaultDebugLevel = <unbound method 'SetDefaultDebugLevel'>\n",
      " |  \n",
      " |  SetDetectorOption = <unbound method 'SetDetectorOption'>\n",
      " |  \n",
      " |  SetExpectedInputDuration = <unbound method 'SetExpectedInputDuration'>\n",
      " |  \n",
      " |  SetFormantOption = <unbound method 'SetFormantOption'>\n",
      " |  \n",
      " |  SetFrequencyCutoff = <unbound method 'SetFrequencyCutoff'>\n",
      " |  \n",
      " |  SetKeyFrameMap = <unbound method 'SetKeyFrameMap'>\n",
      " |  \n",
      " |  SetMaxProcessSize = <unbound method 'SetMaxProcessSize'>\n",
      " |  \n",
      " |  SetPhaseOption = <unbound method 'SetPhaseOption'>\n",
      " |  \n",
      " |  SetPitchOption = <unbound method 'SetPitchOption'>\n",
      " |  \n",
      " |  SetPitchScale = <unbound method 'SetPitchScale'>\n",
      " |  \n",
      " |  SetTimeRatio = <unbound method 'SetTimeRatio'>\n",
      " |  \n",
      " |  SetTransientsOption = <unbound method 'SetTransientsOption'>\n",
      " |  \n",
      " |  Study = <unbound method 'Study'>\n",
      " |  \n",
      " |  __init__ = <unbound method '__init__'>\n",
      " |  \n",
      " |  __overloads__ = <unbound method '__init__'>\n",
      " |  \n",
      " |  ----------------------------------------------------------------------\n",
      " |  Data and other attributes inherited from System.Object:\n",
      " |  \n",
      " |  Equals = <unbound method 'Equals'>\n",
      " |  \n",
      " |  Finalize = <unbound method 'Finalize'>\n",
      " |  \n",
      " |  GetHashCode = <unbound method 'GetHashCode'>\n",
      " |  \n",
      " |  GetType = <unbound method 'GetType'>\n",
      " |  \n",
      " |  MemberwiseClone = <unbound method 'MemberwiseClone'>\n",
      " |  \n",
      " |  ReferenceEquals = <unbound method 'ReferenceEquals'>\n",
      " |  \n",
      " |  ToString = <unbound method 'ToString'>\n",
      "\n"
     ]
    }
   ],
   "source": [
    "help(RubberbandNet.lib.RubberBand.RubberBandStretcher)"
   ]
  },
  {
   "cell_type": "code",
   "execution_count": 5,
   "metadata": {},
   "outputs": [
    {
     "ename": "NameError",
     "evalue": "name 'RBTypes' is not defined",
     "output_type": "error",
     "traceback": [
      "\u001b[1;31m---------------------------------------------------------------------------\u001b[0m",
      "\u001b[1;31mNameError\u001b[0m                                 Traceback (most recent call last)",
      "\u001b[1;32m~\\AppData\\Local\\Temp/ipykernel_19220/2921527938.py\u001b[0m in \u001b[0;36m<module>\u001b[1;34m\u001b[0m\n\u001b[0;32m      1\u001b[0m \u001b[0mopt\u001b[0m \u001b[1;33m=\u001b[0m \u001b[0mOptionManager\u001b[0m\u001b[1;33m(\u001b[0m\u001b[1;33m)\u001b[0m\u001b[1;33m\u001b[0m\u001b[1;33m\u001b[0m\u001b[0m\n\u001b[1;32m----> 2\u001b[1;33m \u001b[0mo1\u001b[0m \u001b[1;33m=\u001b[0m \u001b[0mRBTypes\u001b[0m\u001b[1;33m.\u001b[0m\u001b[0mMeta\u001b[0m\u001b[1;33m\u001b[0m\u001b[1;33m\u001b[0m\u001b[0m\n\u001b[0m\u001b[0;32m      3\u001b[0m \u001b[0mo2\u001b[0m \u001b[1;33m=\u001b[0m \u001b[0mRBTypes\u001b[0m\u001b[1;33m.\u001b[0m\u001b[0mMethod\u001b[0m\u001b[1;33m\u001b[0m\u001b[1;33m\u001b[0m\u001b[0m\n\u001b[0;32m      4\u001b[0m \u001b[0mopt\u001b[0m\u001b[1;33m[\u001b[0m\u001b[0mo1\u001b[0m\u001b[1;33m]\u001b[0m\u001b[1;33m\u001b[0m\u001b[1;33m\u001b[0m\u001b[0m\n\u001b[0;32m      5\u001b[0m \u001b[1;32mclass\u001b[0m \u001b[0mTOptSet\u001b[0m\u001b[1;33m(\u001b[0m\u001b[0mEnum\u001b[0m\u001b[1;33m)\u001b[0m\u001b[1;33m:\u001b[0m\u001b[1;33m\u001b[0m\u001b[1;33m\u001b[0m\u001b[0m\n",
      "\u001b[1;31mNameError\u001b[0m: name 'RBTypes' is not defined"
     ]
    }
   ],
   "source": [
    "opt = OptionManager()\n",
    "o1 = RBTypes.Meta\n",
    "o2 = RBTypes.Method\n",
    "opt[o1]\n",
    "class TOptSet(Enum):\n",
    "    \n",
    "    @classmethod\n",
    "    def set_option_manager(cls, option_manager: OptionManager):\n",
    "        cls._option_manager = option_manager\n",
    "\n",
    "    def __getattr__(self, name):\n",
    "        \"\"\"\n",
    "        Return the enum member matching `name`\n",
    "\n",
    "        We use __getattr__ instead of descriptors or inserting into the enum\n",
    "        class' __dict__ in order to support `name` and `value` being both\n",
    "        properties for enum members (which live in the class' __dict__) and\n",
    "        enum members themselves.\n",
    "        \"\"\"\n",
    "        try:\n",
    "            self._option_manager[self._member_map_[name]]\n",
    "            return self._member_map_[name]\n",
    "        except KeyError:\n",
    "            raise AttributeError(name) from None\n",
    "\n",
    "    def __getitem__(self, name):\n",
    "        return self._member_map_[name]\n",
    "\n",
    "class TOptSet2(TOptSet):\n",
    "    option3 = RBTypes.Meta.value\n",
    "    option4 = RBTypes.Method.value\n",
    "\n",
    "TOptSet2.set_option_manager(opt)"
   ]
  },
  {
   "cell_type": "code",
   "execution_count": 49,
   "metadata": {},
   "outputs": [
    {
     "data": {
      "text/plain": [
       "[<xpression.xtract.XT.xtract_configs.Option object at 0x00000238F1FB45B0>]"
      ]
     },
     "execution_count": 49,
     "metadata": {},
     "output_type": "execute_result"
    }
   ],
   "source": [
    "TOptSet2._option_manager"
   ]
  },
  {
   "cell_type": "code",
   "execution_count": 46,
   "metadata": {},
   "outputs": [
    {
     "data": {
      "text/plain": [
       "mappingproxy({'_generate_next_value_': <function enum.Enum._generate_next_value_(name, start, count, last_values)>,\n",
       "              '__module__': '__main__',\n",
       "              '__doc__': 'An enumeration.',\n",
       "              '_member_names_': ['option3', 'option4'],\n",
       "              '_member_map_': {'option3': <TOptSet2.option3: <xpression.xtract.XT.xtract_configs.Option object at 0x00000238F1FFCFD0>>,\n",
       "               'option4': <TOptSet2.option4: <xpression.xtract.XT.xtract_configs.Option object at 0x00000238F1FFCCA0>>},\n",
       "              '_member_type_': object,\n",
       "              '_value2member_map_': {<xpression.xtract.XT.xtract_configs.Option at 0x238f1ffcfd0>: <TOptSet2.option3: <xpression.xtract.XT.xtract_configs.Option object at 0x00000238F1FFCFD0>>,\n",
       "               <xpression.xtract.XT.xtract_configs.Option at 0x238f1ffcca0>: <TOptSet2.option4: <xpression.xtract.XT.xtract_configs.Option object at 0x00000238F1FFCCA0>>},\n",
       "              'option3': <TOptSet2.option3: <xpression.xtract.XT.xtract_configs.Option object at 0x00000238F1FFCFD0>>,\n",
       "              'option4': <TOptSet2.option4: <xpression.xtract.XT.xtract_configs.Option object at 0x00000238F1FFCCA0>>,\n",
       "              '__new__': <function enum.Enum.__new__(cls, value)>,\n",
       "              '_option_manager': []})"
      ]
     },
     "execution_count": 46,
     "metadata": {},
     "output_type": "execute_result"
    }
   ],
   "source": [
    "TOptSet2.__dict__"
   ]
  },
  {
   "cell_type": "code",
   "execution_count": 34,
   "metadata": {},
   "outputs": [
    {
     "data": {
      "text/plain": [
       "<TOptSet.option1: <xpression.xtract.XT.xtract_configs.Option object at 0x00000238F1FFCA00>>"
      ]
     },
     "execution_count": 34,
     "metadata": {},
     "output_type": "execute_result"
    }
   ],
   "source": [
    "TOptSet.option1"
   ]
  },
  {
   "cell_type": "code",
   "execution_count": 35,
   "metadata": {},
   "outputs": [
    {
     "data": {
      "text/plain": [
       "[<RBTypes.Method: 'CLR.MethodBinding'>]"
      ]
     },
     "execution_count": 35,
     "metadata": {},
     "output_type": "execute_result"
    }
   ],
   "source": [
    "opt"
   ]
  },
  {
   "cell_type": "code",
   "execution_count": 9,
   "metadata": {},
   "outputs": [
    {
     "data": {
      "text/plain": [
       "[]"
      ]
     },
     "execution_count": 9,
     "metadata": {},
     "output_type": "execute_result"
    }
   ],
   "source": [
    "opt[RBTypes.Method]"
   ]
  },
  {
   "cell_type": "code",
   "execution_count": 5,
   "metadata": {},
   "outputs": [],
   "source": [
    "class RBTypes(str, Enum):\n",
    "    Option = 'RubberBand.Options'\n",
    "    Method = 'CLR.MethodBinding'\n",
    "    Meta = 'clr._internal.CLRMetatype'\n",
    "\n",
    "class CtypeParser:\n",
    "\n",
    "    def __init__(self, map, module, ref=None, ctrlRef=None):\n",
    "        self._module = module.__module__\n",
    "        self.module = module\n",
    "        self.map = map\n",
    "        self.ref = ref if ref else self._module\n",
    "        self.ctrlRef = ctrlRef if ctrlRef else self\n",
    "        self.max_depth = 4\n",
    "        self.current_depth = 0\n",
    "        self._builtin_exception_max = 5\n",
    "        self._builtin_exception_count = 0\n",
    "        if hasattr(module, '__dir__') and type(map) == list: self.public_map = filter(lambda x: not x.startswith('_'), self.map)\n",
    "        else: self.public_map = filter(lambda x: not x.startswith('_'), self.map.keys())\n",
    "        self.cMap = {}\n",
    "        self.dMap = {}\n",
    "\n",
    "    def _init_class_map_(self, dMap_mode=False):\n",
    "        self.ctrlRef.current_depth += 1\n",
    "        if self.ctrlRef.current_depth >= self.ctrlRef.max_depth: return {}\n",
    "        \n",
    "        entry_template = {\n",
    "            'cname': None,\n",
    "            'pyname': None,\n",
    "            'type': None,\n",
    "            'value': None,\n",
    "            'map': None\n",
    "        }\n",
    "\n",
    "        for i in self.public_map:\n",
    "            value = getattr(self.module, i)\n",
    "            csType = self._objecttype_format_(value)\n",
    "            if csType == RBTypes.Method: rbType = RBTypes.Method.value\n",
    "            elif csType == RBTypes.Option: rbType = RBTypes.Option.value\n",
    "            elif csType == RBTypes.Meta: rbType = RBTypes.Meta.value\n",
    "            elif 'builtins' in csType and self.module.__module__ == self.ref: rbType = csType\n",
    "            else: \n",
    "                print(f'Unknown type: {csType}')\n",
    "                if self._builtin_exception_count < self._builtin_exception_max: continue\n",
    "                else: break\n",
    "            \n",
    "            cname = i\n",
    "            pyname = str(cname).lower() if rbType == RBTypes.Method else cname\n",
    "            if rbType == RBTypes.Option and hasattr(value, '__dir__') and callable(value.__dir__):\n",
    "                imap = CtypeParser(value.__dir__(), value, self.ref, self.ctrlRef).dmap if dMap_mode else CtypeParser(value.__dir__(), value, self.ref, self.ctrlRef).cmap\n",
    "                self.ctrlRef.current_depth -= 1\n",
    "            else: imap = None\n",
    "\n",
    "            self.cMap[i] = entry_template.copy()\n",
    "            self.cMap[i]['cname'] = cname\n",
    "            self.cMap[i]['pyname'] = pyname\n",
    "            self.cMap[i]['type'] = rbType\n",
    "            self.cMap[i]['value'] = value\n",
    "            self.cMap[i]['map'] = imap\n",
    "        return self.cMap if dMap_mode else self\n",
    "\n",
    "    def _objecttype_format_(self, obj):\n",
    "        mType = type(obj).__module__\n",
    "        oType = type(obj).__name__\n",
    "        return f'{mType}.{oType}'\n",
    "    \n",
    "    @property\n",
    "    def dmap(self):\n",
    "        return self._init_class_map_(True)\n",
    "    \n",
    "    @property\n",
    "    def cmap(self):\n",
    "        return self._init_class_map_()\n",
    "    \n"
   ]
  },
  {
   "cell_type": "code",
   "execution_count": null,
   "metadata": {},
   "outputs": [],
   "source": [
    "mtype = type(STRETCH_REF.CalculateStretch).__module__\n",
    "otype = mtype + '.' + type(STRETCH_REF.CalculateStretch).__name__\n",
    "otype"
   ]
  },
  {
   "cell_type": "code",
   "execution_count": null,
   "metadata": {},
   "outputs": [],
   "source": [
    "parsed = CtypeParser(STRETCH_REF.__dict__, STRETCH_REF).dmap\n",
    "iparsed = iter(parsed)"
   ]
  },
  {
   "cell_type": "code",
   "execution_count": null,
   "metadata": {},
   "outputs": [],
   "source": []
  },
  {
   "cell_type": "code",
   "execution_count": null,
   "metadata": {},
   "outputs": [],
   "source": [
    "RubberbandNet.lib.RubberBand.RubberBandStretcher.MemberwiseClone"
   ]
  },
  {
   "cell_type": "code",
   "execution_count": null,
   "metadata": {},
   "outputs": [],
   "source": [
    "STRETCH_REF.PercussiveOptions.__dir__()\n",
    "#hasattr(STRETCH_REF.PercussiveOptions, '__dir__')\n",
    "type(FrozenSet)"
   ]
  },
  {
   "cell_type": "code",
   "execution_count": null,
   "metadata": {},
   "outputs": [],
   "source": [
    "Rbs_Dict\n",
    "STRETCH_REF.PercussiveOptions.__"
   ]
  },
  {
   "cell_type": "code",
   "execution_count": null,
   "metadata": {},
   "outputs": [],
   "source": [
    "class RubberBandTypes:\n",
    "    Options = STRETCH_REF.Options"
   ]
  },
  {
   "cell_type": "code",
   "execution_count": null,
   "metadata": {},
   "outputs": [],
   "source": [
    "#cpp.lib.RubberBand.__dict__\n",
    "#RubberBandEngine = create_model( 'RubberBandModel', **cpp.lib.RubberBand.RubberBandStretcher.__dict__)\n",
    "\n",
    "model_dict = {}\n",
    "\n",
    "def get_class_attr(obj, storage: dict = None):\n",
    "    if storage is None:\n",
    "        storage = {}\n",
    "    for k, v in obj.__dict__.items():\n",
    "        if str(type(v)).startswith(\"<method '\") and str(type(v)).endswith(\"'>\"):\n",
    "            if not storage.get('methods'):\n",
    "                storage['methods'] = []\n",
    "            storage['methods'].append(k.replace('<method ', '').replace('>', ''))\n",
    "        else:\n",
    "            if not storage.get('attributes'):\n",
    "                storage['attributes'] = {}\n",
    "            if hasattr(v, '__dict__') or hasattr(v, '__slots__'):\n",
    "                storage['attributes'][k] = {}\n",
    "                get_class_attr(v, storage['attributes'][k])\n",
    "            else:\n",
    "                storage['attributes'][k] = v\n",
    "    return storage\n",
    "    \n"
   ]
  },
  {
   "cell_type": "code",
   "execution_count": null,
   "metadata": {},
   "outputs": [],
   "source": [
    "from pprint import pprint\n",
    "import datamodel_code_generator as dmcg\n",
    "filetype = dmcg.InputFileType.Dict\n",
    "\n",
    "\n",
    "rubber_attr = get_class_attr(STRETCH_REF, model_dict)\n",
    "dmcg.generate(\n",
    "    str(rubber_attr['attributes']), \n",
    "    input_file_type=filetype, \n",
    "    use_subclass_enum=True, \n",
    "    capitalise_enum_members=True, \n",
    "    class_name='RubberBandStretcher', \n",
    "    use_standard_collections=True,\n",
    "    set_default_enum_member=True,\n",
    "    apply_default_values_for_required_fields=True,\n",
    "    original_field_name_delimiter='.',\n",
    "    use_field_description=True,\n",
    "    use_generic_container_types=True,\n",
    "    use_one_literal_as_default=True\n",
    "    )\n",
    "\n"
   ]
  },
  {
   "cell_type": "code",
   "execution_count": null,
   "metadata": {},
   "outputs": [],
   "source": [
    "o = list(STRETCH_REF.DefaultOptions.__dir__())\n",
    "f1 = filter(lambda x: not x.startswith('_'), o)\n",
    "STRETCH_REF.Options\n",
    "dotype = [type(getattr(STRETCH_REF.DefaultOptions, x)) for x in f1]\n",
    "#[t == STRETCH_REF.Options for t in dotype]\n",
    "#[i for i in RubberbandNet._assembly.DefinedTypes]\n",
    "doa = [getattr(STRETCH_REF.DefaultOptions, x) for x in f1]\n",
    "#[type(x) == callable for x in doa]\n",
    "o\n"
   ]
  },
  {
   "cell_type": "code",
   "execution_count": null,
   "metadata": {},
   "outputs": [],
   "source": [
    "Rbs_Dict"
   ]
  },
  {
   "attachments": {},
   "cell_type": "markdown",
   "metadata": {},
   "source": [
    "#### Load Target and Reference Audio Files"
   ]
  },
  {
   "cell_type": "code",
   "execution_count": null,
   "metadata": {
    "notebookRunGroups": {
     "groupValue": "1"
    }
   },
   "outputs": [],
   "source": [
    "target = WaveForm(r'xpression\\xtract\\Dogs_Normal.wav')\n",
    "reference = WaveForm(r'xpression\\xtract\\Dogs_Angry.wav')\n",
    "#tfm = sox.Transformer()\n"
   ]
  },
  {
   "attachments": {},
   "cell_type": "markdown",
   "metadata": {},
   "source": [
    "#### Adjust Target's Time Domain to Match the Reference. "
   ]
  },
  {
   "cell_type": "code",
   "execution_count": null,
   "metadata": {
    "notebookRunGroups": {
     "groupValue": "1"
    }
   },
   "outputs": [],
   "source": [
    "flux_top_settings = pd.read_csv('top_three_settings_batch250_filters8.csv')\n",
    "flux_top_settings = flux_top_settings.iloc[1].to_dict()\n",
    "flux_settings = {k: v for k, v in flux_top_settings.items() if 'Unnamed' not in k and 'index' not in k}\n",
    "target.reformers.flux.settings.HppsSettings = target.reformers.flux.settings.HppsSettings.construct(**flux_settings)"
   ]
  },
  {
   "cell_type": "code",
   "execution_count": null,
   "metadata": {
    "notebookRunGroups": {
     "groupValue": "1"
    }
   },
   "outputs": [],
   "source": [
    "tmod_target = target.reformers.flux.warp_to_match(reference)"
   ]
  },
  {
   "cell_type": "code",
   "execution_count": null,
   "metadata": {
    "notebookRunGroups": {
     "groupValue": "1"
    }
   },
   "outputs": [],
   "source": [
    "tmod_target._array = tmod_target._array.T\n",
    "tmod_target.play"
   ]
  },
  {
   "attachments": {},
   "cell_type": "markdown",
   "metadata": {},
   "source": [
    "#### Extract Target & Reference Pitch"
   ]
  },
  {
   "cell_type": "code",
   "execution_count": null,
   "metadata": {
    "notebookRunGroups": {
     "groupValue": "1"
    }
   },
   "outputs": [],
   "source": [
    "pitch_info = tmod_target.informers.pitch # Create a pitch Informer object for both the target and reference\n",
    "pitch_info2 = reference.informers.pitch\n",
    "freq1 = pitch_info.frequency # Access the Frequency Feature of the Pitch Informers, with is returned as a pd.Series\n",
    "freq2 = pitch_info2.frequency"
   ]
  },
  {
   "cell_type": "code",
   "execution_count": null,
   "metadata": {
    "notebookRunGroups": {
     "groupValue": "1"
    }
   },
   "outputs": [],
   "source": [
    "targetMP = tmod_target.informers.pitch\n",
    "referenceP = reference.informers.pitch\n",
    "\n",
    "TMDF = targetMP.frequency.to_frame()\n",
    "TMDF['Time'] = targetMP.time\n",
    "RDF = referenceP.frequency.to_frame()\n",
    "RDF['Time'] = referenceP.time"
   ]
  },
  {
   "attachments": {},
   "cell_type": "markdown",
   "metadata": {},
   "source": [
    "#### Adjust the Reference Pitch Curve for the Target\n",
    "Our goal here, is to take the reference curve (i.e. the curve we are trying to match), and adjust it so that it has the same median as the target. Though it is not neccessary here, since the two clips are spoken by the same person, in a real world setting, it would need to be adjusted to be in range of the target speakers natural pitch. \n",
    "\n",
    "Thus we create a comparison object, with the reference and target. Then align the two, to account for possible frame variance in the length of the reference, and time-domain adjust target. The rest is just frame formatting and such for the graphs, and not really neccessary."
   ]
  },
  {
   "cell_type": "code",
   "execution_count": null,
   "metadata": {
    "notebookRunGroups": {
     "groupValue": "1"
    }
   },
   "outputs": [],
   "source": [
    "TmsRsComparison = targetMP.create_comparison(referenceP.frequency, targetMP.frequency)\n",
    "RP, TP = TmsRsComparison.align\n",
    "RPadjusted = pd.Series(np.where(RP > TmsRsComparison.means_diff, RP - 50, RP))\n",
    "\n",
    "RADF = RPadjusted.to_frame(name='Frequency')\n",
    "RADF['Time'] = referenceP.time\n",
    "RADF = RADF[['Time', 'Frequency']]\n",
    "RADF.Name = 'Reference-Adjusted'\n",
    "TDF = TP.to_frame(name='Frequency')\n",
    "TDF['Time'] = targetMP.time\n",
    "TDF = TDF[['Time', 'Frequency']]\n",
    "TDF.Name = 'Modification Target'\n"
   ]
  },
  {
   "cell_type": "code",
   "execution_count": null,
   "metadata": {
    "notebookRunGroups": {
     "groupValue": "1"
    }
   },
   "outputs": [],
   "source": [
    "# __ GRAPHING __\n",
    "Rgx = WaveGraphX(RADF)\n",
    "Tgx = WaveGraphX(TDF)\n",
    "Rgx()\n",
    "Rgx + Tgx\n",
    "Rgx()"
   ]
  },
  {
   "attachments": {},
   "cell_type": "markdown",
   "metadata": {},
   "source": [
    "#### Create New Comparison, & Extract Curve Difference.\n",
    "The next step is to calculate the difference between the two curves, now that they have the same median. This is needed so we know the warping factors to pass to\n",
    "the pitch shifter, in order to achieve the same curve as the reference. \n",
    "\n",
    "Technically this portion is easier to calculate without using the `Comparison()` object, however, I decided to use it just for illustrative purposes. \n",
    "\n",
    "You can see via the `WaveGraphX()` below the code, that the calculated difference results in an almost perfect curve. "
   ]
  },
  {
   "cell_type": "code",
   "execution_count": null,
   "metadata": {
    "notebookRunGroups": {
     "groupValue": "1"
    }
   },
   "outputs": [],
   "source": [
    "TRview = targetMP.create_comparison(RADF.Frequency, TDF.Frequency)\n",
    "warping_vectors = TDF.Time.to_frame(name = 'Time')\n",
    "warping_vectors['Frequency'] = TRview.diff.replace(np.nan, 0)\n",
    "warping_vectors['Ratio'] = TRview.ratio.replace(0, np.nan).ffill()\n",
    "warping_vectors['Frame'] = warping_vectors.Time * tmod_target.rate\n",
    "# This is only here to make sure that we calculated our warping factors correctly.\n",
    "# The actual value that we will be using to warp is the calculated RADF and TDF difference, listed above.\n",
    "TDF_Warped = TDF.copy()\n",
    "TDF_Warped.Frequency = TDF_Warped.Frequency + TRview.diff"
   ]
  },
  {
   "cell_type": "code",
   "execution_count": null,
   "metadata": {
    "notebookRunGroups": {
     "groupValue": "1"
    }
   },
   "outputs": [],
   "source": [
    "TWgx = WaveGraphX(TDF_Warped, name='Warped Target')\n",
    "Rgx + TWgx\n",
    "Rgx()"
   ]
  },
  {
   "attachments": {},
   "cell_type": "markdown",
   "metadata": {},
   "source": [
    "#### Use the Reformers.warp to Adjust the Target's Pitch Dynamically\n",
    "\n",
    "The next step is pass our calculated warping vectors, to the warp `Reformer()`, and have it create a pitchmap or frequencymap for us. We can then access the warper's `engine` property to adjust anything we need to there. After that, we're ready to reform the audio! "
   ]
  },
  {
   "cell_type": "code",
   "execution_count": null,
   "metadata": {},
   "outputs": [],
   "source": [
    "warp = target.reformers.warp\n",
    "warp.engine.frequency.value = 1.0\n",
    "warp.frequency_map.add_to_map(warping_vectors.Frame.to_list(), warping_vectors.Ratio.to_list())\n",
    "warp.engine.formant.Activation.activate\n",
    "target_pitchModified = warp()"
   ]
  },
  {
   "cell_type": "code",
   "execution_count": null,
   "metadata": {},
   "outputs": [],
   "source": [
    "Audio(shifted, rate=wf.rate)"
   ]
  },
  {
   "cell_type": "code",
   "execution_count": null,
   "metadata": {},
   "outputs": [],
   "source": [
    "pm_audio = warper.map_pitch()"
   ]
  },
  {
   "cell_type": "code",
   "execution_count": null,
   "metadata": {},
   "outputs": [],
   "source": [
    "shift = warper.shift_pitch()"
   ]
  },
  {
   "cell_type": "code",
   "execution_count": null,
   "metadata": {},
   "outputs": [],
   "source": [
    "Audio(wf._array, rate=wf.rate)"
   ]
  },
  {
   "cell_type": "code",
   "execution_count": null,
   "metadata": {},
   "outputs": [],
   "source": [
    "Audio(pm_audio, rate=wf.rate)"
   ]
  },
  {
   "cell_type": "code",
   "execution_count": null,
   "metadata": {},
   "outputs": [],
   "source": [
    "def test(*args, **kwargs):\n",
    "    if t1 := kwargs.pop('t1', False):\n",
    "        print('Found t1')\n",
    "        print(kwargs)\n",
    "    else:\n",
    "        print('No t1')\n",
    "\n",
    "test(t1=1, t2=2, t3=3)"
   ]
  },
  {
   "cell_type": "code",
   "execution_count": null,
   "metadata": {},
   "outputs": [],
   "source": [
    "rbs = RubberBandSettings()\n",
    "rbs.use_R2_engine.formant.Activation.activate\n",
    "rbs.engine.crisp.value = 4\n",
    "rbs.engine.smoothing.Activation.activate\n",
    "rbs.__compile__()"
   ]
  },
  {
   "cell_type": "code",
   "execution_count": null,
   "metadata": {},
   "outputs": [],
   "source": [
    "source = SourceMap()\n",
    "source.__map_to_source__(1.1, 2.6)\n",
    "source.__map_to_source__(4.4, 4.2)\n",
    "source.__map_to_source__(5.5, 6.6)\n",
    "f = source.__source_to_file__()\n",
    "print(open(f).read())\n",
    "source.__del_file__()"
   ]
  },
  {
   "cell_type": "code",
   "execution_count": null,
   "metadata": {},
   "outputs": [],
   "source": [
    "r2 = R2Engine()\n",
    "f = r2.formant.dict()\n",
    "s = SettingsManager()"
   ]
  },
  {
   "cell_type": "code",
   "execution_count": null,
   "metadata": {},
   "outputs": [],
   "source": [
    "r2.__dict__"
   ]
  },
  {
   "cell_type": "code",
   "execution_count": null,
   "metadata": {},
   "outputs": [],
   "source": [
    "\n",
    "r2.__getattribute__('formant').Activation.active"
   ]
  },
  {
   "cell_type": "code",
   "execution_count": null,
   "metadata": {},
   "outputs": [],
   "source": [
    "s.storage"
   ]
  },
  {
   "cell_type": "code",
   "execution_count": null,
   "metadata": {},
   "outputs": [],
   "source": [
    "def freq_ratio_to_cents(freq_ratio):\n",
    "    return 0.0 if freq_ratio == 0 else 1200 * log2(freq_ratio)"
   ]
  },
  {
   "cell_type": "code",
   "execution_count": null,
   "metadata": {},
   "outputs": [],
   "source": [
    "tdf = pd.read_csv('top_three_settings_batch250_filters8.csv')\n",
    "tdf = tdf.drop(columns=['index', 'Unnamed: 0'])\n",
    "tdfd = tdf.to_dict('index')\n",
    "tdfl = deque()\n",
    "for i in tdfd.values():\n",
    "    s = list(i.values())\n",
    "    s.pop(0)\n",
    "    tdfl.append(s)\n",
    "\n",
    "s = FormFluxSettings()\n",
    "lp = LockPick(wf, s, wf2)\n",
    "r = lp.manual_run(tdfl)\n",
    "x = lp.xplore"
   ]
  },
  {
   "cell_type": "code",
   "execution_count": null,
   "metadata": {},
   "outputs": [],
   "source": [
    "wf_input = x.data[1][0]\n",
    "input_pitch, in_pitch_min, in_pitch_max = wf_input.reformers.pitch.pitch_net_caster()\n",
    "in_pitch_freq = pd.Series(input_pitch.selected_array['frequency'], name='frequency')\n",
    "in_pitch_strength = pd.Series(input_pitch.selected_array['strength'], name='strength')\n",
    "pitch_time_start = []\n",
    "pitch_time_end = []\n",
    "for b in input_pitch.t_bins(): pitch_time_start.append(b[0]), pitch_time_end.append(b[1])"
   ]
  },
  {
   "cell_type": "code",
   "execution_count": null,
   "metadata": {},
   "outputs": [],
   "source": [
    "reference_pitch, ref_pitch_min, ref_pitch_max = wf2.reformers.pitch.pitch_net_caster()\n",
    "ref_pitch_freq = pd.Series(reference_pitch.selected_array['frequency'], name='frequency')\n",
    "ref_pitch_strength = pd.Series(reference_pitch.selected_array['strength'], name='strength')\n",
    "ref_pitch_time_start = []\n",
    "ref_pitch_time_end = []\n",
    "for b in reference_pitch.t_bins(): ref_pitch_time_start.append(b[0]), ref_pitch_time_end.append(b[1])\n",
    "num_bends = len(ref_pitch_freq)"
   ]
  },
  {
   "cell_type": "code",
   "execution_count": null,
   "metadata": {},
   "outputs": [],
   "source": [
    "ratios = ref_pitch_freq / in_pitch_freq\n",
    "ratios = ratios.dropna()\n",
    "cents = ratios.apply(freq_ratio_to_cents)\n",
    "#HTML(cents.to_frame().to_html())"
   ]
  },
  {
   "cell_type": "code",
   "execution_count": null,
   "metadata": {},
   "outputs": [],
   "source": [
    "pitch_bend = tfm.bend(num_bends,ref_pitch_time_start, ref_pitch_time_end, cents.to_list())"
   ]
  },
  {
   "cell_type": "code",
   "execution_count": null,
   "metadata": {},
   "outputs": [],
   "source": [
    "tfm.clear_effects()"
   ]
  },
  {
   "cell_type": "code",
   "execution_count": null,
   "metadata": {},
   "outputs": [],
   "source": [
    "test_start = [0.2]\n",
    "test_end = [0.25]\n",
    "test_cents = [1000]\n",
    "pitch_bend = tfm.bend(1, test_start, test_end, test_end, frame_rate=80, oversample_rate=16)"
   ]
  },
  {
   "cell_type": "code",
   "execution_count": null,
   "metadata": {},
   "outputs": [],
   "source": [
    "shifted_array = tfm.build_array(input_array = wf_input._array.T, sample_rate_in = wf_input.settings.rate)"
   ]
  },
  {
   "cell_type": "code",
   "execution_count": null,
   "metadata": {},
   "outputs": [],
   "source": [
    "Audio(shifted_array, rate=wf_input.settings.rate)"
   ]
  },
  {
   "cell_type": "code",
   "execution_count": null,
   "metadata": {},
   "outputs": [],
   "source": [
    "s = FormFluxSettings()\n",
    "lp = LockPick(wf, s, wf2)\n",
    "lp.filters = [\n",
    "    'ola_win_size', \n",
    "    'ola_syn_hop_size', \n",
    "    'pv_zero_pad', \n",
    "    'hp_zero_pad', \n",
    "    'pv_syn_hop_size', \n",
    "    'hp_hop_size', \n",
    "    'hp_len_harm', \n",
    "    'hp_len_perc'\n",
    "    ]\n",
    "\n",
    "combinations = lp.start(batch_size=250)\n",
    "batch = next(combinations)"
   ]
  },
  {
   "cell_type": "code",
   "execution_count": null,
   "metadata": {},
   "outputs": [],
   "source": [
    "def xplore_saved_settings(df: pd.DataFrame, xplorer: Xplore):\n",
    "    data = xplorer.data\n",
    "    previous_settings = None\n",
    "    for i in range(len(df)):\n",
    "        settings = df.iloc[i]\n",
    "        idx = settings['index']\n",
    "        wf, s = data[idx]\n",
    "        audio_array = wf._array.T\n",
    "        rate = wf.settings.rate\n",
    "        audio = Audio(audio_array, rate=rate)\n",
    "        if previous_settings is not None:\n",
    "            sdiff = previous_settings.compare(settings, result_names=('previous', 'current'))\n",
    "        else:\n",
    "            sdiff = settings\n",
    "        previous_settings = settings\n",
    "        yield display(audio, sdiff)"
   ]
  },
  {
   "cell_type": "code",
   "execution_count": null,
   "metadata": {},
   "outputs": [],
   "source": [
    "def pitch_net_caster(waveform: WaveForm, runs = 4, i = 0, minimum = None, maximum = None, simplify = False):\n",
    "    if minimum is None and maximum is None:\n",
    "        p = waveform.forms.S.to_pitch_cc(very_accurate = True)\n",
    "    else:\n",
    "        p = waveform.forms.S.to_pitch_cc(pitch_floor = minimum, very_accurate=True, pitch_ceiling = maximum)\n",
    "    smax = round(p.selected_array['frequency'].max())\n",
    "    smin = round(p.selected_array['frequency'].min())\n",
    "    i += 1\n",
    "    if i != runs:\n",
    "        smax = smax * 2\n",
    "        smin = round(smin / 2)\n",
    "        p, smin, smax = pitch_net_caster(waveform, runs, i, smin, smax)\n",
    "    if i == runs and simplify == True:\n",
    "        p = p.smooth()\n",
    "    return p, smin, smax\n"
   ]
  },
  {
   "cell_type": "code",
   "execution_count": null,
   "metadata": {},
   "outputs": [],
   "source": [
    "TOP_SETTINGS = []\n",
    "def save_to_top_settings(df: pd.DataFrame, idx):\n",
    "    s = df.loc[df['index'] == idx]\n",
    "    TOP_SETTINGS.append(s)"
   ]
  },
  {
   "cell_type": "code",
   "execution_count": null,
   "metadata": {},
   "outputs": [],
   "source": [
    "pnc, smin, smax = pitch_net_caster(w, simplify=True)"
   ]
  },
  {
   "cell_type": "code",
   "execution_count": null,
   "metadata": {},
   "outputs": [],
   "source": [
    "p, pmin, pmax = w.reformers.pitch.pitch_net_caster()\n",
    "pdf = pd.DataFrame(p.selected_array['frequency'])"
   ]
  },
  {
   "cell_type": "code",
   "execution_count": null,
   "metadata": {},
   "outputs": [],
   "source": [
    "pdf.plot()"
   ]
  },
  {
   "cell_type": "code",
   "execution_count": null,
   "metadata": {},
   "outputs": [],
   "source": [
    "wp = w.reformers.pitch.match_pitch(wf2)"
   ]
  },
  {
   "cell_type": "code",
   "execution_count": null,
   "metadata": {},
   "outputs": [],
   "source": [
    "p1, wpmax, wpmin = w.reformers.pitch.pitch_net_caster()\n",
    "p2, wf2max, wf2min = wf2.reformers.pitch.pitch_net_caster()"
   ]
  },
  {
   "cell_type": "code",
   "execution_count": null,
   "metadata": {},
   "outputs": [],
   "source": [
    "p2.selected_array['frequency']"
   ]
  },
  {
   "cell_type": "code",
   "execution_count": null,
   "metadata": {},
   "outputs": [],
   "source": [
    "s1 = pd.Series(p1.selected_array['frequency'])\n",
    "s2 = pd.Series(p2.selected_array['frequency']).reindex(range(len(s1)), fill_value=1)\n",
    "div = s2 / s1\n",
    "div.replace(0, 1, inplace=True)\n",
    "div = div.to_list()\n",
    "window_len = p2.get_time_step()\n",
    "window_size = int(window_len * wp.settings.rate)\n",
    "#HTML(div.to_frame().to_html())\n"
   ]
  },
  {
   "cell_type": "code",
   "execution_count": null,
   "metadata": {},
   "outputs": [],
   "source": [
    "w_shift = copy(w._array)"
   ]
  },
  {
   "cell_type": "code",
   "execution_count": null,
   "metadata": {},
   "outputs": [],
   "source": [
    "len(w_shift.T.squeeze())"
   ]
  },
  {
   "cell_type": "code",
   "execution_count": null,
   "metadata": {},
   "outputs": [],
   "source": [
    "\n",
    "#pitch_shifter = StftPitchShift(1024, 256, wp.settings.rate).shiftpitch(w_shift.T.squeeze(), div)\n",
    "mpitch = pitcher.shiftpitch(w_shift.T, div, w.settings.rate)\n"
   ]
  },
  {
   "cell_type": "code",
   "execution_count": null,
   "metadata": {},
   "outputs": [],
   "source": [
    "w._array"
   ]
  },
  {
   "cell_type": "code",
   "execution_count": null,
   "metadata": {},
   "outputs": [],
   "source": [
    "wp.settings.rate"
   ]
  },
  {
   "cell_type": "code",
   "execution_count": null,
   "metadata": {},
   "outputs": [],
   "source": [
    "HTML(pd.Series(w.audio.as_array().T.squeeze()).to_frame().to_html())"
   ]
  },
  {
   "cell_type": "code",
   "execution_count": null,
   "metadata": {},
   "outputs": [],
   "source": [
    "Audio(mpitch, rate=48000)"
   ]
  },
  {
   "cell_type": "code",
   "execution_count": null,
   "metadata": {},
   "outputs": [],
   "source": [
    "w1 = x.data[0][0]\n",
    "w1 = w1.reformers.pitch.match_pitch(wf2)\n",
    "w1 = w1.reformers.intensity.multiply_intensity(wf2)\n",
    "w1.reformers.formant.settings.pitch_range_factor = 1.1\n",
    "w1 = w1.reformers.formant.shift_formant(1.07)\n",
    "w2 = x.data[1][0]\n",
    "w2 = w2.reformers.pitch.match_pitch(wf2)\n",
    "w2 = w2.reformers.intensity.multiply_intensity(wf2)\n",
    "w2.reformers.formant.settings.pitch_range_factor = 1.1\n",
    "w2 = w2.reformers.formant.shift_formant(1.07)\n",
    "w3 = x.data[2][0]\n",
    "w3 = w3.reformers.pitch.match_pitch(wf2)\n",
    "w3 = w3.reformers.intensity.multiply_intensity(wf2)\n",
    "w3.reformers.formant.settings.pitch_range_factor = 1.1\n",
    "w3 = w3.reformers.formant.shift_formant(1.07)\n",
    "a1 = Audio(w1.as_array(), rate=w1.sampling_frequency)\n",
    "a2 = Audio(w2.as_array(), rate=w2.sampling_frequency)\n",
    "a3 = Audio(w3.as_array(), rate=w3.sampling_frequency)\n",
    "display(a1, a2, a3)"
   ]
  },
  {
   "cell_type": "code",
   "execution_count": null,
   "metadata": {},
   "outputs": [],
   "source": [
    "w3_len = len(w3.values.T.squeeze())\n",
    "w3_time  = w3_len / w3.sampling_frequency\n",
    "w3_win_num = w3_time / w.reformers.pitch.settings.time_step\n",
    "display(w3_len, w3_time, w3_win_num)"
   ]
  },
  {
   "cell_type": "code",
   "execution_count": null,
   "metadata": {},
   "outputs": [],
   "source": [
    "wp1 = w1.reformers.pitch.match_pitch(wf2)\n",
    "wi1 = wp1.reformers.intensity.multiply_intensity(wf2)\n",
    "Audio(wi1._array, rate=wp1.settings.rate)"
   ]
  },
  {
   "cell_type": "code",
   "execution_count": null,
   "metadata": {},
   "outputs": [],
   "source": [
    "Audio(wf2._array, rate=wf2.settings.rate)"
   ]
  },
  {
   "cell_type": "code",
   "execution_count": null,
   "metadata": {},
   "outputs": [],
   "source": [
    "Audio(wp._array, rate=wp.settings.rate)"
   ]
  },
  {
   "cell_type": "code",
   "execution_count": null,
   "metadata": {},
   "outputs": [],
   "source": [
    "wpsf = wp.reformers.formant.shift_formant(1.05)\n",
    "Audio(wpsf.as_array(), rate = wpsf.sampling_frequency)"
   ]
  },
  {
   "cell_type": "code",
   "execution_count": null,
   "metadata": {},
   "outputs": [],
   "source": [
    "Audio(wp._array, rate = wp.settings.rate)"
   ]
  },
  {
   "cell_type": "code",
   "execution_count": null,
   "metadata": {},
   "outputs": [],
   "source": [
    "w.reformers.pitch.settings.pitch_floor = smin\n",
    "w.reformers.pitch.settings.pitch_ceiling = smax\n",
    "w.reformers.pitch.settings.octave_jump_cost = 0.5\n",
    "wp = w.reformers.pitch.simplify.match_pitch(wf2)\n",
    "#wp_audio_modulated = wp.audio.deepen_band_modulation()\n"
   ]
  },
  {
   "cell_type": "code",
   "execution_count": null,
   "metadata": {},
   "outputs": [],
   "source": [
    "wp.reformers.intensity.settings.subtract_mean_pressure = False\n",
    "wpi = wp.reformers.intensity.multiply_intensity(wf2)\n",
    "Audio(wpi._array, rate = wpi.settings.rate)"
   ]
  },
  {
   "cell_type": "code",
   "execution_count": null,
   "metadata": {},
   "outputs": [],
   "source": [
    "smax"
   ]
  },
  {
   "cell_type": "code",
   "execution_count": null,
   "metadata": {},
   "outputs": [],
   "source": [
    "sa = pnc.selected_array['frequency']\n",
    "df_sa = pd.DataFrame(sa)"
   ]
  },
  {
   "cell_type": "code",
   "execution_count": null,
   "metadata": {},
   "outputs": [],
   "source": [
    "wmfcc = w.forms.S.to_mfcc(maximum_frequency = smax)\n",
    "wmfccs = wmfcc.to_sound()"
   ]
  },
  {
   "cell_type": "code",
   "execution_count": null,
   "metadata": {},
   "outputs": [],
   "source": [
    "wmfccs.as_array().shape"
   ]
  },
  {
   "cell_type": "code",
   "execution_count": null,
   "metadata": {},
   "outputs": [],
   "source": [
    "wi = wp.reformers.intensity.multiply_intensity(wf2)"
   ]
  },
  {
   "cell_type": "code",
   "execution_count": null,
   "metadata": {},
   "outputs": [],
   "source": [
    "Audio(wf2._array, rate=wf2.settings.rate)"
   ]
  },
  {
   "cell_type": "code",
   "execution_count": null,
   "metadata": {},
   "outputs": [],
   "source": [
    "Audio(wi._array, rate=wp.settings.rate)"
   ]
  },
  {
   "cell_type": "code",
   "execution_count": null,
   "metadata": {},
   "outputs": [],
   "source": [
    "pd.DataFrame(p1.selected_array['frequency']).plot()"
   ]
  },
  {
   "cell_type": "code",
   "execution_count": null,
   "metadata": {},
   "outputs": [],
   "source": [
    "\n",
    "df_sa.plot()"
   ]
  },
  {
   "cell_type": "code",
   "execution_count": null,
   "metadata": {},
   "outputs": [],
   "source": [
    "p1.selected_array['frequency'].max()"
   ]
  },
  {
   "cell_type": "code",
   "execution_count": null,
   "metadata": {},
   "outputs": [],
   "source": [
    "p1.selected_array['frequency'].min()"
   ]
  },
  {
   "cell_type": "code",
   "execution_count": null,
   "metadata": {},
   "outputs": [],
   "source": [
    "Audio(wp._array, rate=wp.settings.rate)"
   ]
  },
  {
   "cell_type": "code",
   "execution_count": null,
   "metadata": {},
   "outputs": [],
   "source": [
    "Audio(wi._array, rate=wi.settings.rate)"
   ]
  },
  {
   "cell_type": "code",
   "execution_count": null,
   "metadata": {},
   "outputs": [],
   "source": [
    "s"
   ]
  },
  {
   "cell_type": "code",
   "execution_count": null,
   "metadata": {},
   "outputs": [],
   "source": [
    "top_xplorer = xplore_saved_settings(top_df, x)"
   ]
  },
  {
   "cell_type": "code",
   "execution_count": null,
   "metadata": {},
   "outputs": [],
   "source": [
    "next(top_xplorer)"
   ]
  },
  {
   "cell_type": "code",
   "execution_count": null,
   "metadata": {},
   "outputs": [],
   "source": [
    "x.current = 0"
   ]
  },
  {
   "cell_type": "code",
   "execution_count": null,
   "metadata": {},
   "outputs": [],
   "source": [
    "a, s = x.get()\n",
    "a"
   ]
  },
  {
   "cell_type": "code",
   "execution_count": null,
   "metadata": {},
   "outputs": [],
   "source": [
    "a, s = x.get_next_set()\n",
    "a"
   ]
  },
  {
   "cell_type": "code",
   "execution_count": null,
   "metadata": {},
   "outputs": [],
   "source": [
    "a, s = x.good()\n",
    "a"
   ]
  },
  {
   "cell_type": "code",
   "execution_count": null,
   "metadata": {},
   "outputs": [],
   "source": [
    "a, s = x.bad()\n",
    "a"
   ]
  },
  {
   "cell_type": "code",
   "execution_count": null,
   "metadata": {},
   "outputs": [],
   "source": [
    "x.create_scoring_dataframe()"
   ]
  },
  {
   "cell_type": "code",
   "execution_count": null,
   "metadata": {},
   "outputs": [],
   "source": [
    "x.scoring"
   ]
  },
  {
   "cell_type": "code",
   "execution_count": null,
   "metadata": {},
   "outputs": [],
   "source": [
    "a, s = batch[1]\n",
    "s"
   ]
  },
  {
   "cell_type": "code",
   "execution_count": null,
   "metadata": {},
   "outputs": [],
   "source": [
    "a1, s1 = x.data[1]\n"
   ]
  },
  {
   "cell_type": "code",
   "execution_count": null,
   "metadata": {},
   "outputs": [],
   "source": [
    "a1.reformers.flux.settings.HppsSettings = a1.reformers.flux.settings.HppsSettings.__class__(**s1)\n",
    "a1.reformers.flux.settings.HppsSettings"
   ]
  },
  {
   "cell_type": "code",
   "execution_count": null,
   "metadata": {},
   "outputs": [],
   "source": [
    "s1"
   ]
  },
  {
   "cell_type": "code",
   "execution_count": null,
   "metadata": {},
   "outputs": [],
   "source": [
    "s"
   ]
  },
  {
   "cell_type": "code",
   "execution_count": null,
   "metadata": {},
   "outputs": [],
   "source": [
    "a"
   ]
  },
  {
   "cell_type": "code",
   "execution_count": null,
   "metadata": {},
   "outputs": [],
   "source": [
    "filters = ['ola_win_size', 'ola_syn_hop_size']\n",
    "defaults = {'ola_win_size': 1024}\n",
    "setting_combos = settings_tester(wf)\n",
    "filtered_setting_combos = settings_filter(filters, setting_combos, defaults)\n",
    "filtered_setting_combos"
   ]
  },
  {
   "cell_type": "code",
   "execution_count": null,
   "metadata": {},
   "outputs": [],
   "source": [
    "# Test out the different parameter value combinations for wf.reformers.flux.settings.HppsSettings\n",
    "\n",
    "def settings_tester(waveform: WaveForm):\n",
    "    s = waveform.reformers.flux.settings.HppsSettings\n",
    "    setting_combos = []\n",
    "    for k, v in s.dict().items():\n",
    "        if type(v) == bool:\n",
    "            setting_combos.append(deque([True, False]))\n",
    "        elif type(v) == int:\n",
    "            if 'len' in k:\n",
    "                setting_combos.append(deque([5, 10, 20]))\n",
    "            elif 'size' in k:\n",
    "                setting_combos.append(deque([1024, 2048, 4096]))\n",
    "            elif 'pad' in k:\n",
    "                setting_combos.append(deque([0, 10, 20]))\n",
    "        elif type(v) == str:\n",
    "            if 'type' in k:\n",
    "                setting_combos.append(deque(['hann', 'sin']))\n",
    "            elif 'mode' in k:\n",
    "                setting_combos.append(deque(['binary', 'relative']))\n",
    "    return setting_combos\n"
   ]
  },
  {
   "cell_type": "code",
   "execution_count": null,
   "metadata": {},
   "outputs": [],
   "source": [
    "def settings_filter(filters, setting_combos, defaults = None):\n",
    "    settings = {}\n",
    "    settings_keys = [k for k in FormFluxSettings._FluxHppsSettings.__fields__.keys()]\n",
    "    settings_defaults = [v for v in FormFluxSettings()._FluxHppsSettings().dict().values()]\n",
    "    for i in range(len(settings_keys)): settings[settings_keys[i]] = i\n",
    "    for f in filters: # for each filter in the list of filters\n",
    "        if f in settings.keys(): # if the filter is a valid setting\n",
    "            if defaults and f in defaults.keys(): # if the filter is in the defaults dictionary\n",
    "                setting_combos[settings[f]] = deque([defaults[f]])\n",
    "            else: setting_combos[settings[f]] = deque([settings_defaults[settings[f]]])\n",
    "    return setting_combos\n"
   ]
  },
  {
   "cell_type": "code",
   "execution_count": null,
   "metadata": {},
   "outputs": [],
   "source": [
    "def test_settings_combos(wf: WaveForm, reference_waveform: WaveForm, batch_size = 1, filter = None):\n",
    "    wf.reformers.flux.use_hpps\n",
    "    setting_combos = settings_tester(wf)\n",
    "    if filter is not None: setting_combos = settings_filter(filter, setting_combos)\n",
    "    setting_combos = itertools.product(*setting_combos)\n",
    "    errors = 0\n",
    "    total_runs = 0\n",
    "    runs = []\n",
    "    last_settings = None\n",
    "    last_error = None\n",
    "    last_changed = None\n",
    "    \n",
    "\n",
    "    for s in setting_combos:\n",
    "\n",
    "        waveform = deepcopy(wf)\n",
    "        k = [k for k in FormFluxSettings._FluxHppsSettings().__fields__.keys()]\n",
    "        p = zip(k, s)\n",
    "        current_setting = dict(p)\n",
    "\n",
    "        if last_settings is None: last_settings = current_setting\n",
    "        else:\n",
    "            for i in range(len(last_settings)):\n",
    "\n",
    "                if current_setting[k[i]] == last_settings[k[i]]:\n",
    "                    continue\n",
    "                else: \n",
    "                    last_changed = (k[i], current_setting[k[i]])\n",
    "                    break\n",
    "        \n",
    "        total_runs += 1\n",
    "\n",
    "        try:\n",
    "            hpps_settings = FormFluxSettings()._FluxHppsSettings(**current_setting)\n",
    "        except ValidationError:\n",
    "            print(f'Validation Error on run {total_runs}: \\n\\n{dict(p)}')\n",
    "            errors += 1\n",
    "            time.sleep(0.5)\n",
    "            continue\n",
    "\n",
    "        waveform.reformers.flux.settings.HppsSettings = hpps_settings\n",
    "\n",
    "        try:\n",
    "            current_run = waveform.reformers.flux.warp_to_match(reference_waveform)\n",
    "            runs.append((current_run, hpps_settings))\n",
    "        except ValueError:\n",
    "            errors += 1\n",
    "            continue\n",
    "\n",
    "        last_settings = current_setting\n",
    "        \n",
    "        clear_output(wait=True)\n",
    "        display(f'Total Runs: {total_runs}')\n",
    "        display(f'Errors: {errors}')\n",
    "        display(f'Successful Runs: {len(runs)}')\n",
    "        display(f'Last Changed: {last_changed}')\n",
    "        display(f'Last Error: {last_error}')\n",
    "\n",
    "        if len(runs) == batch_size:\n",
    "            yield runs\n",
    "            runs = []\n",
    "    "
   ]
  },
  {
   "cell_type": "code",
   "execution_count": null,
   "metadata": {},
   "outputs": [],
   "source": [
    "class Xplore:\n",
    "    def __init__(self, audio_items: list):\n",
    "        self.data = audio_items\n",
    "        self.current = 0\n",
    "        self.current_audio = None\n",
    "        self.current_settings = None\n",
    "        self.set_step = 18\n",
    "        self.step = 1\n",
    "        self.saved_settings = None\n",
    "        self.setting_to_remove = None\n",
    "        self.settings_type = FormFluxSettings()._FluxHppsSettings()\n",
    "        self.scoring = self.create_scoring_dataframe()\n",
    "\n",
    "    def compile_settings_dataframe(self):\n",
    "        settings = []\n",
    "        for a, s in self.data:\n",
    "            settings.append(s.dict())\n",
    "        df = pd.DataFrame(settings)\n",
    "        return df\n",
    "\n",
    "    def create_scoring_dataframe(self, data=None):\n",
    "        catagories = list(self.settings_type.dict().keys())\n",
    "        catagories = catagories.append('score')\n",
    "        if data: df = pd.DataFrame(data, columns=catagories, index=range(len(data)))\n",
    "        else: df = pd.DataFrame(columns=catagories)\n",
    "        self.scoring = df\n",
    "        return df\n",
    "    \n",
    "    def score(self):\n",
    "        for c in self.scoring.columns:\n",
    "            pass\n",
    "            \n",
    "\n",
    "    def items(self):\n",
    "        for a, s in self.data:\n",
    "            self.current_audio = a\n",
    "            self.current_settings = s\n",
    "            self.current += 1\n",
    "            nparray = a._array.T\n",
    "            sr = a.settings.rate\n",
    "            yield Audio(nparray, rate=sr)\n",
    "\n",
    "    def get(self):\n",
    "        a, s = self.data[self.current]\n",
    "        self.current += self.step\n",
    "        audio = Audio(a._array.T, rate=a.settings.rate)\n",
    "        self.current_audio = a\n",
    "        self.current_settings = s\n",
    "        return audio, s\n",
    "    \n",
    "    def get_next_set(self):\n",
    "        self.current += self.set_step\n",
    "        a, s = self.data[self.current]\n",
    "        audio = Audio(a._array.T, rate=a.settings.rate)\n",
    "        self.current_audio = a\n",
    "        self.current_settings = s\n",
    "        return audio, s\n",
    "    \n",
    "    def autoplay(self):\n",
    "        a, s = self.data[self.current]\n",
    "        self.current_audio = a\n",
    "        self.current_settings = s\n",
    "        self.current += 1\n",
    "        nparray = a._array.T\n",
    "        sr = a.settings.rate\n",
    "        return Audio(nparray, rate=sr, autoplay=True), s\n",
    "    \n",
    "    def good(self, by_set=False):\n",
    "        if self.current > 0: self.save_settings()\n",
    "        scoring = self.current_settings.dict()\n",
    "        scoring['score'] = 1\n",
    "        if self.scoring.empty: self.create_scoring_dataframe(scoring)\n",
    "        else: self.scoring.loc[len(self.scoring)] = scoring\n",
    "        if by_set: return self.get_next_set()\n",
    "        else: return self.get()\n",
    "    \n",
    "    def bad(self, by_set=False):\n",
    "        if self.current > 0: self.to_remove()\n",
    "        scoring = self.current_settings.dict()\n",
    "        scoring['score'] = 0\n",
    "        if self.scoring.empty: self.create_scoring_dataframe(scoring)\n",
    "        else: self.scoring.loc[len(self.scoring)] = scoring\n",
    "        if by_set: return self.get_next_set()\n",
    "        else: return self.get()\n",
    "        \n",
    "\n",
    "    def to_remove(self):\n",
    "        s = self.current_settings.dict()\n",
    "        s['index'] = self.current\n",
    "        if self.setting_to_remove is None:\n",
    "            self.setting_to_remove = pd.DataFrame(s, index=[0])\n",
    "        else:\n",
    "            settings = pd.DataFrame(s, index=[0])\n",
    "            self.setting_to_remove = pd.concat([self.setting_to_remove, settings], ignore_index=True)\n",
    "\n",
    "    def save_settings(self):\n",
    "        s = self.current_settings.dict()\n",
    "        s['index'] = self.current\n",
    "        if self.saved_settings is None:\n",
    "            self.saved_settings = pd.DataFrame(s, index=[0])\n",
    "        else:\n",
    "            settings = pd.DataFrame(s, index=[0])\n",
    "            self.saved_settings = pd.concat([self.saved_settings, settings], ignore_index=True)\n",
    "        "
   ]
  },
  {
   "cell_type": "code",
   "execution_count": null,
   "metadata": {},
   "outputs": [],
   "source": [
    "filters = ['ola_win_size', 'ola_syn_hop_size', 'pv_zero_pad', 'hp_zero_pad', 'pv_syn_hop_size', 'hp_hop_size', 'hp_len_harm', 'hp_len_perc']\n",
    "batches = test_settings_combos(wf, wf2, batch_size=500, filter=filters)\n"
   ]
  },
  {
   "cell_type": "code",
   "execution_count": null,
   "metadata": {},
   "outputs": [],
   "source": [
    "batch = next(batches)"
   ]
  },
  {
   "cell_type": "code",
   "execution_count": null,
   "metadata": {},
   "outputs": [],
   "source": [
    "a1, s1 = batch[0]\n",
    "a2, s2 = batch[1]\n",
    "s1.dict() == s2.dict()"
   ]
  },
  {
   "cell_type": "code",
   "execution_count": null,
   "metadata": {},
   "outputs": [],
   "source": [
    "x = Xplore(batch)\n",
    "x.set_step = 8"
   ]
  },
  {
   "cell_type": "code",
   "execution_count": null,
   "metadata": {},
   "outputs": [],
   "source": [
    "vcounts = [x.saved_settings[s].value_counts().nlargest(1) for s in x.saved_settings.columns if s != 'index']\n",
    "data = [(v.values[0], v.index[0]) for v in vcounts]\n",
    "columns = [v.name for v in vcounts]\n",
    "#pd.DataFrame(vcounts)\n",
    "data\n"
   ]
  },
  {
   "cell_type": "code",
   "execution_count": null,
   "metadata": {},
   "outputs": [],
   "source": [
    "unique = [x.saved_settings[s].unique() for s in x.saved_settings.columns]\n",
    "for s in x.saved_settings.columns:\n",
    "    u = x.saved_settings[s].unique()\n",
    "    c = []\n",
    "    "
   ]
  },
  {
   "cell_type": "code",
   "execution_count": null,
   "metadata": {},
   "outputs": [],
   "source": [
    "xdf = x.compile_settings_dataframe()"
   ]
  },
  {
   "cell_type": "code",
   "execution_count": null,
   "metadata": {},
   "outputs": [],
   "source": [
    "x.saved_settings"
   ]
  },
  {
   "cell_type": "code",
   "execution_count": null,
   "metadata": {},
   "outputs": [],
   "source": [
    "x.setting_to_remove"
   ]
  },
  {
   "cell_type": "code",
   "execution_count": null,
   "metadata": {},
   "outputs": [],
   "source": [
    "type(x.scoring)"
   ]
  },
  {
   "cell_type": "code",
   "execution_count": null,
   "metadata": {},
   "outputs": [],
   "source": [
    "a, s = x.get()\n",
    "a"
   ]
  },
  {
   "cell_type": "code",
   "execution_count": null,
   "metadata": {},
   "outputs": [],
   "source": [
    "a, s = x.get_next_set()\n",
    "a"
   ]
  },
  {
   "cell_type": "code",
   "execution_count": null,
   "metadata": {},
   "outputs": [],
   "source": [
    "a, s = x.good()\n",
    "a"
   ]
  },
  {
   "cell_type": "code",
   "execution_count": null,
   "metadata": {},
   "outputs": [],
   "source": [
    "a, s = x.bad(by_set=True)\n",
    "a"
   ]
  },
  {
   "cell_type": "code",
   "execution_count": null,
   "metadata": {},
   "outputs": [],
   "source": [
    "a, s = x.get_next_set()\n",
    "a"
   ]
  },
  {
   "cell_type": "code",
   "execution_count": null,
   "metadata": {},
   "outputs": [],
   "source": [
    "x.save_settings()"
   ]
  },
  {
   "cell_type": "code",
   "execution_count": null,
   "metadata": {},
   "outputs": [],
   "source": [
    "x.saved_settings"
   ]
  },
  {
   "cell_type": "code",
   "execution_count": null,
   "metadata": {},
   "outputs": [],
   "source": [
    "HTML(xdf.to_html())"
   ]
  },
  {
   "cell_type": "code",
   "execution_count": null,
   "metadata": {},
   "outputs": [],
   "source": [
    "am, sm, = batch[717]"
   ]
  },
  {
   "cell_type": "code",
   "execution_count": null,
   "metadata": {},
   "outputs": [],
   "source": [
    "Audio(am._array.T, rate=am.settings.rate)"
   ]
  },
  {
   "attachments": {},
   "cell_type": "markdown",
   "metadata": {},
   "source": [
    "### Phase Vocoder"
   ]
  },
  {
   "cell_type": "code",
   "execution_count": null,
   "metadata": {},
   "outputs": [],
   "source": [
    "warped = wf.reformers.flux.use_phase_vox.warp_to_match(wf2)"
   ]
  },
  {
   "cell_type": "code",
   "execution_count": null,
   "metadata": {},
   "outputs": [],
   "source": [
    "warped.forms.A"
   ]
  },
  {
   "cell_type": "markdown",
   "metadata": {},
   "source": []
  },
  {
   "attachments": {},
   "cell_type": "markdown",
   "metadata": {},
   "source": [
    "### Pitch Replacement"
   ]
  },
  {
   "cell_type": "code",
   "execution_count": null,
   "metadata": {},
   "outputs": [],
   "source": [
    "warped.forms.reform_rate(44100)"
   ]
  },
  {
   "cell_type": "code",
   "execution_count": null,
   "metadata": {},
   "outputs": [],
   "source": [
    "repitched = warped.reformers.pitch.match_pitch(wf2)"
   ]
  },
  {
   "cell_type": "code",
   "execution_count": null,
   "metadata": {},
   "outputs": [],
   "source": [
    "Audio(repitched.audio.as_array(), rate=repitched.settings.rate)"
   ]
  },
  {
   "attachments": {},
   "cell_type": "markdown",
   "metadata": {},
   "source": [
    "### Intensity Replacement"
   ]
  },
  {
   "cell_type": "code",
   "execution_count": null,
   "metadata": {},
   "outputs": [],
   "source": [
    "intensified = repitched.reformers.intensity.multiply_intensity(wf2)"
   ]
  },
  {
   "cell_type": "code",
   "execution_count": null,
   "metadata": {},
   "outputs": [],
   "source": [
    "Audio(intensified.audio.as_array(), rate=intensified.settings.rate)"
   ]
  }
 ],
 "metadata": {
  "kernelspec": {
   "display_name": "base",
   "language": "python",
   "name": "python3"
  },
  "language_info": {
   "codemirror_mode": {
    "name": "ipython",
    "version": 3
   },
   "file_extension": ".py",
   "mimetype": "text/x-python",
   "name": "python",
   "nbconvert_exporter": "python",
   "pygments_lexer": "ipython3",
   "version": "3.9.13"
  },
  "orig_nbformat": 4
 },
 "nbformat": 4,
 "nbformat_minor": 2
}
